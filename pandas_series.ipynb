{
 "cells": [
  {
   "cell_type": "code",
   "execution_count": 1,
   "id": "a8f04f64",
   "metadata": {},
   "outputs": [],
   "source": [
    "import numpy as np\n",
    "import pandas as pd\n",
    "\n",
    "import matplotlib.pyplot as plt"
   ]
  },
  {
   "cell_type": "code",
   "execution_count": 2,
   "id": "e634ecb4",
   "metadata": {},
   "outputs": [
    {
     "data": {
      "text/plain": [
       "pandas.core.series.Series"
      ]
     },
     "execution_count": 2,
     "metadata": {},
     "output_type": "execute_result"
    }
   ],
   "source": [
    "fruits = pd.Series([\"kiwi\", \"mango\", \"strawberry\", \"pineapple\", \"gala apple\", \"honeycrisp apple\", \"tomato\", \"watermelon\", \"honeydew\", \"kiwi\", \"kiwi\", \"kiwi\", \"mango\", \"blueberry\", \"blackberry\", \"gooseberry\", \"papaya\"])\n",
    "type(fruits)"
   ]
  },
  {
   "cell_type": "code",
   "execution_count": 3,
   "id": "5fe67a8b",
   "metadata": {},
   "outputs": [
    {
     "data": {
      "text/plain": [
       "0                 kiwi\n",
       "1                mango\n",
       "2           strawberry\n",
       "3            pineapple\n",
       "4           gala apple\n",
       "5     honeycrisp apple\n",
       "6               tomato\n",
       "7           watermelon\n",
       "8             honeydew\n",
       "9                 kiwi\n",
       "10                kiwi\n",
       "11                kiwi\n",
       "12               mango\n",
       "13           blueberry\n",
       "14          blackberry\n",
       "15          gooseberry\n",
       "16              papaya\n",
       "dtype: object"
      ]
     },
     "execution_count": 3,
     "metadata": {},
     "output_type": "execute_result"
    }
   ],
   "source": [
    "fruits"
   ]
  },
  {
   "cell_type": "code",
   "execution_count": 4,
   "id": "f9a277ba",
   "metadata": {},
   "outputs": [],
   "source": [
    "#1 Determine the number of elements in fruits.\n",
    "\n",
    "#2 Output only the index from fruits.\n",
    "\n",
    "#3 Output only the values from fruits.\n",
    "\n",
    "#4 Confirm the data type of the values in fruits.\n",
    "\n",
    "#5 Output only the first five values from fruits. Output the last three values. Output two random values from fruits.\n",
    "\n",
    "#6 Run the .describe() on fruits to see what information it returns when called on a Series with string values.\n",
    "\n",
    "#7 Run the code necessary to produce only the unique string values from fruits.\n",
    "\n",
    "#8 Determine how many times each unique string value occurs in fruits.\n",
    "\n",
    "#9 Determine the string value that occurs most frequently in fruits.\n",
    "\n",
    "#10 Determine the string value that occurs least frequently in fruits."
   ]
  },
  {
   "cell_type": "code",
   "execution_count": 5,
   "id": "e052408a",
   "metadata": {},
   "outputs": [
    {
     "data": {
      "text/plain": [
       "17"
      ]
     },
     "execution_count": 5,
     "metadata": {},
     "output_type": "execute_result"
    }
   ],
   "source": [
    "#1\n",
    "fruits.size"
   ]
  },
  {
   "cell_type": "code",
   "execution_count": 6,
   "id": "e6295d76",
   "metadata": {},
   "outputs": [
    {
     "data": {
      "text/plain": [
       "RangeIndex(start=0, stop=17, step=1)"
      ]
     },
     "execution_count": 6,
     "metadata": {},
     "output_type": "execute_result"
    }
   ],
   "source": [
    "#2\n",
    "fruits.index"
   ]
  },
  {
   "cell_type": "code",
   "execution_count": 7,
   "id": "4687d984",
   "metadata": {},
   "outputs": [
    {
     "data": {
      "text/plain": [
       "array(['kiwi', 'mango', 'strawberry', 'pineapple', 'gala apple',\n",
       "       'honeycrisp apple', 'tomato', 'watermelon', 'honeydew', 'kiwi',\n",
       "       'kiwi', 'kiwi', 'mango', 'blueberry', 'blackberry', 'gooseberry',\n",
       "       'papaya'], dtype=object)"
      ]
     },
     "execution_count": 7,
     "metadata": {},
     "output_type": "execute_result"
    }
   ],
   "source": [
    "#3\n",
    "fruits.values"
   ]
  },
  {
   "cell_type": "code",
   "execution_count": 8,
   "id": "b0acb9e9",
   "metadata": {},
   "outputs": [
    {
     "data": {
      "text/plain": [
       "dtype('O')"
      ]
     },
     "execution_count": 8,
     "metadata": {},
     "output_type": "execute_result"
    }
   ],
   "source": [
    "#4\n",
    "fruits.dtype"
   ]
  },
  {
   "cell_type": "code",
   "execution_count": 9,
   "id": "0e396310",
   "metadata": {},
   "outputs": [
    {
     "data": {
      "text/plain": [
       "0          kiwi\n",
       "1         mango\n",
       "2    strawberry\n",
       "3     pineapple\n",
       "4    gala apple\n",
       "dtype: object"
      ]
     },
     "execution_count": 9,
     "metadata": {},
     "output_type": "execute_result"
    }
   ],
   "source": [
    "#5\n",
    "fruits.head()"
   ]
  },
  {
   "cell_type": "code",
   "execution_count": 10,
   "id": "0fcdbce2",
   "metadata": {},
   "outputs": [
    {
     "data": {
      "text/plain": [
       "14    blackberry\n",
       "15    gooseberry\n",
       "16        papaya\n",
       "dtype: object"
      ]
     },
     "execution_count": 10,
     "metadata": {},
     "output_type": "execute_result"
    }
   ],
   "source": [
    "fruits.tail(3)"
   ]
  },
  {
   "cell_type": "code",
   "execution_count": 11,
   "id": "40ea5287",
   "metadata": {},
   "outputs": [
    {
     "data": {
      "text/plain": [
       "3     pineapple\n",
       "10         kiwi\n",
       "dtype: object"
      ]
     },
     "execution_count": 11,
     "metadata": {},
     "output_type": "execute_result"
    }
   ],
   "source": [
    "fruits.sample(2)"
   ]
  },
  {
   "cell_type": "code",
   "execution_count": 12,
   "id": "e78427f8",
   "metadata": {},
   "outputs": [
    {
     "data": {
      "text/plain": [
       "count       17\n",
       "unique      13\n",
       "top       kiwi\n",
       "freq         4\n",
       "dtype: object"
      ]
     },
     "execution_count": 12,
     "metadata": {},
     "output_type": "execute_result"
    }
   ],
   "source": [
    "#6\n",
    "fruits.describe()"
   ]
  },
  {
   "cell_type": "code",
   "execution_count": 13,
   "id": "d8efb361",
   "metadata": {},
   "outputs": [
    {
     "data": {
      "text/plain": [
       "array(['kiwi', 'mango', 'strawberry', 'pineapple', 'gala apple',\n",
       "       'honeycrisp apple', 'tomato', 'watermelon', 'honeydew',\n",
       "       'blueberry', 'blackberry', 'gooseberry', 'papaya'], dtype=object)"
      ]
     },
     "execution_count": 13,
     "metadata": {},
     "output_type": "execute_result"
    }
   ],
   "source": [
    "#7\n",
    "fruits.unique()"
   ]
  },
  {
   "cell_type": "code",
   "execution_count": 14,
   "id": "6ecd1283",
   "metadata": {},
   "outputs": [
    {
     "data": {
      "text/plain": [
       "kiwi                4\n",
       "mango               2\n",
       "strawberry          1\n",
       "pineapple           1\n",
       "gala apple          1\n",
       "honeycrisp apple    1\n",
       "tomato              1\n",
       "watermelon          1\n",
       "honeydew            1\n",
       "blueberry           1\n",
       "blackberry          1\n",
       "gooseberry          1\n",
       "papaya              1\n",
       "dtype: int64"
      ]
     },
     "execution_count": 14,
     "metadata": {},
     "output_type": "execute_result"
    }
   ],
   "source": [
    "#8\n",
    "fruits.value_counts()"
   ]
  },
  {
   "cell_type": "code",
   "execution_count": 15,
   "id": "53a9c7d8",
   "metadata": {},
   "outputs": [
    {
     "data": {
      "text/plain": [
       "kiwi    4\n",
       "dtype: int64"
      ]
     },
     "execution_count": 15,
     "metadata": {},
     "output_type": "execute_result"
    }
   ],
   "source": [
    "#9\n",
    "fruits.value_counts().head(1)"
   ]
  },
  {
   "cell_type": "code",
   "execution_count": 16,
   "id": "56f88155",
   "metadata": {},
   "outputs": [
    {
     "data": {
      "text/plain": [
       "kiwi    4\n",
       "dtype: int64"
      ]
     },
     "execution_count": 16,
     "metadata": {},
     "output_type": "execute_result"
    }
   ],
   "source": [
    "fruits.value_counts().nlargest(n=1)\n"
   ]
  },
  {
   "cell_type": "code",
   "execution_count": 17,
   "id": "ae7a360d",
   "metadata": {},
   "outputs": [
    {
     "data": {
      "text/plain": [
       "4"
      ]
     },
     "execution_count": 17,
     "metadata": {},
     "output_type": "execute_result"
    }
   ],
   "source": [
    "fruits.value_counts().max()"
   ]
  },
  {
   "cell_type": "code",
   "execution_count": 18,
   "id": "bdb4e769",
   "metadata": {},
   "outputs": [
    {
     "data": {
      "text/plain": [
       "'kiwi'"
      ]
     },
     "execution_count": 18,
     "metadata": {},
     "output_type": "execute_result"
    }
   ],
   "source": [
    "fruits.value_counts().idxmax()"
   ]
  },
  {
   "cell_type": "code",
   "execution_count": 19,
   "id": "839beea4",
   "metadata": {},
   "outputs": [
    {
     "data": {
      "text/plain": [
       "strawberry          1\n",
       "pineapple           1\n",
       "gala apple          1\n",
       "honeycrisp apple    1\n",
       "tomato              1\n",
       "watermelon          1\n",
       "honeydew            1\n",
       "blueberry           1\n",
       "blackberry          1\n",
       "gooseberry          1\n",
       "papaya              1\n",
       "dtype: int64"
      ]
     },
     "execution_count": 19,
     "metadata": {},
     "output_type": "execute_result"
    }
   ],
   "source": [
    "#10\n",
    "fruits.value_counts().nsmallest(n=1, keep = 'all')"
   ]
  },
  {
   "cell_type": "code",
   "execution_count": 20,
   "id": "c0c8cf44",
   "metadata": {},
   "outputs": [
    {
     "data": {
      "text/plain": [
       "'strawberry'"
      ]
     },
     "execution_count": 20,
     "metadata": {},
     "output_type": "execute_result"
    }
   ],
   "source": [
    "fruits.value_counts().idxmin()"
   ]
  },
  {
   "cell_type": "code",
   "execution_count": 21,
   "id": "76909cff",
   "metadata": {},
   "outputs": [],
   "source": [
    "#1 Capitalize all the string values in fruits.\n",
    "\n",
    "#2 Count the letter \"a\" in all the string values (use string vectorization).\n",
    "\n",
    "#3 Output the number of vowels in each and every string value.\n",
    "\n",
    "#4 Write the code to get the longest string value from fruits.\n",
    "\n",
    "#5 Write the code to get the string values with 5 or more letters in the name.\n",
    "\n",
    "#6 Use the .apply method with a lambda function to find the fruit(s) containing the letter \"o\" two or more times.\n",
    "\n",
    "#7 Write the code to get only the string values containing the substring \"berry\".\n",
    "\n",
    "#8 Write the code to get only the string values containing the substring \"apple\".\n",
    "\n",
    "#9 Which string value contains the most vowels?\n"
   ]
  },
  {
   "cell_type": "code",
   "execution_count": 22,
   "id": "fe03e2e5",
   "metadata": {},
   "outputs": [
    {
     "data": {
      "text/plain": [
       "0                 KIWI\n",
       "1                MANGO\n",
       "2           STRAWBERRY\n",
       "3            PINEAPPLE\n",
       "4           GALA APPLE\n",
       "5     HONEYCRISP APPLE\n",
       "6               TOMATO\n",
       "7           WATERMELON\n",
       "8             HONEYDEW\n",
       "9                 KIWI\n",
       "10                KIWI\n",
       "11                KIWI\n",
       "12               MANGO\n",
       "13           BLUEBERRY\n",
       "14          BLACKBERRY\n",
       "15          GOOSEBERRY\n",
       "16              PAPAYA\n",
       "dtype: object"
      ]
     },
     "execution_count": 22,
     "metadata": {},
     "output_type": "execute_result"
    }
   ],
   "source": [
    "#1\n",
    "fruits.str.upper()"
   ]
  },
  {
   "cell_type": "code",
   "execution_count": 23,
   "id": "65b612c0",
   "metadata": {},
   "outputs": [
    {
     "data": {
      "text/plain": [
       "0     False\n",
       "1      True\n",
       "2      True\n",
       "3      True\n",
       "4      True\n",
       "5      True\n",
       "6      True\n",
       "7      True\n",
       "8     False\n",
       "9     False\n",
       "10    False\n",
       "11    False\n",
       "12     True\n",
       "13    False\n",
       "14     True\n",
       "15    False\n",
       "16     True\n",
       "dtype: bool"
      ]
     },
     "execution_count": 23,
     "metadata": {},
     "output_type": "execute_result"
    }
   ],
   "source": [
    "fruits.str.contains('a')"
   ]
  },
  {
   "cell_type": "code",
   "execution_count": 24,
   "id": "c18dd42b",
   "metadata": {},
   "outputs": [
    {
     "data": {
      "text/plain": [
       "0     0\n",
       "1     1\n",
       "2     1\n",
       "3     1\n",
       "4     3\n",
       "5     1\n",
       "6     1\n",
       "7     1\n",
       "8     0\n",
       "9     0\n",
       "10    0\n",
       "11    0\n",
       "12    1\n",
       "13    0\n",
       "14    1\n",
       "15    0\n",
       "16    3\n",
       "dtype: int64"
      ]
     },
     "execution_count": 24,
     "metadata": {},
     "output_type": "execute_result"
    }
   ],
   "source": [
    "#2\n",
    "fruits.str.count('a')"
   ]
  },
  {
   "cell_type": "code",
   "execution_count": 25,
   "id": "64b4a3f1",
   "metadata": {},
   "outputs": [
    {
     "data": {
      "text/plain": [
       "0     2\n",
       "1     2\n",
       "2     2\n",
       "3     4\n",
       "4     4\n",
       "5     5\n",
       "6     3\n",
       "7     4\n",
       "8     3\n",
       "9     2\n",
       "10    2\n",
       "11    2\n",
       "12    2\n",
       "13    3\n",
       "14    2\n",
       "15    4\n",
       "16    3\n",
       "dtype: int64"
      ]
     },
     "execution_count": 25,
     "metadata": {},
     "output_type": "execute_result"
    }
   ],
   "source": [
    "#3\n",
    "fruits.str.count('a')+fruits.str.count('e')+fruits.str.count('i')+fruits.str.count('o')+fruits.str.count('u')"
   ]
  },
  {
   "cell_type": "code",
   "execution_count": 88,
   "id": "a5aac0f0",
   "metadata": {},
   "outputs": [],
   "source": [
    "#create function \n",
    "def count_vowels(some_string):\n",
    "    count = 0\n",
    "    for char in some_string:\n",
    "        if char.lower() in 'aeiou':\n",
    "            count = count +1\n",
    "    return count"
   ]
  },
  {
   "cell_type": "code",
   "execution_count": 89,
   "id": "e0d14aa0",
   "metadata": {},
   "outputs": [
    {
     "data": {
      "text/plain": [
       "0     2\n",
       "1     2\n",
       "2     2\n",
       "3     4\n",
       "4     4\n",
       "5     5\n",
       "6     3\n",
       "7     4\n",
       "8     3\n",
       "9     2\n",
       "10    2\n",
       "11    2\n",
       "12    2\n",
       "13    3\n",
       "14    2\n",
       "15    4\n",
       "16    3\n",
       "dtype: int64"
      ]
     },
     "execution_count": 89,
     "metadata": {},
     "output_type": "execute_result"
    }
   ],
   "source": [
    "fruits.apply(count_vowels)"
   ]
  },
  {
   "cell_type": "code",
   "execution_count": 26,
   "id": "6334ee45",
   "metadata": {},
   "outputs": [
    {
     "data": {
      "text/plain": [
       "0      4\n",
       "1      5\n",
       "2     10\n",
       "3      9\n",
       "4     10\n",
       "5     16\n",
       "6      6\n",
       "7     10\n",
       "8      8\n",
       "9      4\n",
       "10     4\n",
       "11     4\n",
       "12     5\n",
       "13     9\n",
       "14    10\n",
       "15    10\n",
       "16     6\n",
       "dtype: int64"
      ]
     },
     "execution_count": 26,
     "metadata": {},
     "output_type": "execute_result"
    }
   ],
   "source": [
    "#4\n",
    "fruits.str.len()"
   ]
  },
  {
   "cell_type": "code",
   "execution_count": 27,
   "id": "38be6e6f",
   "metadata": {},
   "outputs": [
    {
     "data": {
      "text/plain": [
       "count       17\n",
       "unique      13\n",
       "top       kiwi\n",
       "freq         4\n",
       "dtype: object"
      ]
     },
     "execution_count": 27,
     "metadata": {},
     "output_type": "execute_result"
    }
   ],
   "source": [
    "#4\n",
    "fruits.describe()"
   ]
  },
  {
   "cell_type": "code",
   "execution_count": 48,
   "id": "d920b5cc",
   "metadata": {},
   "outputs": [
    {
     "data": {
      "text/plain": [
       "16"
      ]
     },
     "execution_count": 48,
     "metadata": {},
     "output_type": "execute_result"
    }
   ],
   "source": [
    "#4\n",
    "fruits.str.len().max()"
   ]
  },
  {
   "cell_type": "code",
   "execution_count": 49,
   "id": "9da0e7ea",
   "metadata": {},
   "outputs": [
    {
     "data": {
      "text/plain": [
       "1                mango\n",
       "2           strawberry\n",
       "3            pineapple\n",
       "4           gala apple\n",
       "5     honeycrisp apple\n",
       "6               tomato\n",
       "7           watermelon\n",
       "8             honeydew\n",
       "12               mango\n",
       "13           blueberry\n",
       "14          blackberry\n",
       "15          gooseberry\n",
       "16              papaya\n",
       "dtype: object"
      ]
     },
     "execution_count": 49,
     "metadata": {},
     "output_type": "execute_result"
    }
   ],
   "source": [
    "#5\n",
    "fruits[fruits.str.len()>=5]"
   ]
  },
  {
   "cell_type": "code",
   "execution_count": 30,
   "id": "0120f4b6",
   "metadata": {},
   "outputs": [
    {
     "data": {
      "text/plain": [
       "0     False\n",
       "1     False\n",
       "2     False\n",
       "3     False\n",
       "4     False\n",
       "5     False\n",
       "6      True\n",
       "7     False\n",
       "8     False\n",
       "9     False\n",
       "10    False\n",
       "11    False\n",
       "12    False\n",
       "13    False\n",
       "14    False\n",
       "15     True\n",
       "16    False\n",
       "dtype: bool"
      ]
     },
     "execution_count": 30,
     "metadata": {},
     "output_type": "execute_result"
    }
   ],
   "source": [
    "#6\n",
    "fruits.apply(lambda row: row.count('o')>=2)"
   ]
  },
  {
   "cell_type": "code",
   "execution_count": 31,
   "id": "74e8e630",
   "metadata": {},
   "outputs": [
    {
     "data": {
      "text/plain": [
       "0     0\n",
       "1     1\n",
       "2     0\n",
       "3     0\n",
       "4     0\n",
       "5     1\n",
       "6     2\n",
       "7     1\n",
       "8     1\n",
       "9     0\n",
       "10    0\n",
       "11    0\n",
       "12    1\n",
       "13    0\n",
       "14    0\n",
       "15    2\n",
       "16    0\n",
       "dtype: int64"
      ]
     },
     "execution_count": 31,
     "metadata": {},
     "output_type": "execute_result"
    }
   ],
   "source": [
    "fruits.str.count('o')"
   ]
  },
  {
   "cell_type": "code",
   "execution_count": 32,
   "id": "351cf4ef",
   "metadata": {},
   "outputs": [
    {
     "data": {
      "text/plain": [
       "0     False\n",
       "1     False\n",
       "2      True\n",
       "3     False\n",
       "4     False\n",
       "5     False\n",
       "6     False\n",
       "7     False\n",
       "8     False\n",
       "9     False\n",
       "10    False\n",
       "11    False\n",
       "12    False\n",
       "13     True\n",
       "14     True\n",
       "15     True\n",
       "16    False\n",
       "dtype: bool"
      ]
     },
     "execution_count": 32,
     "metadata": {},
     "output_type": "execute_result"
    }
   ],
   "source": [
    "#7\n",
    "fruits.str.contains('berry')"
   ]
  },
  {
   "cell_type": "code",
   "execution_count": 45,
   "id": "98eddb8f",
   "metadata": {},
   "outputs": [
    {
     "data": {
      "text/plain": [
       "False    13\n",
       "True      4\n",
       "dtype: int64"
      ]
     },
     "execution_count": 45,
     "metadata": {},
     "output_type": "execute_result"
    }
   ],
   "source": [
    "fruits.str.contains('berry').value_counts()"
   ]
  },
  {
   "cell_type": "code",
   "execution_count": 44,
   "id": "d8021eca",
   "metadata": {},
   "outputs": [
    {
     "data": {
      "text/plain": [
       "2     strawberry\n",
       "13     blueberry\n",
       "14    blackberry\n",
       "15    gooseberry\n",
       "dtype: object"
      ]
     },
     "execution_count": 44,
     "metadata": {},
     "output_type": "execute_result"
    }
   ],
   "source": [
    "fruits[fruits.str.contains('berry')]"
   ]
  },
  {
   "cell_type": "code",
   "execution_count": 39,
   "id": "0ce05c8c",
   "metadata": {},
   "outputs": [
    {
     "data": {
      "text/plain": [
       "False    14\n",
       "True      3\n",
       "dtype: int64"
      ]
     },
     "execution_count": 39,
     "metadata": {},
     "output_type": "execute_result"
    }
   ],
   "source": [
    "#8\n",
    "fruits.str.contains('apple').value_counts()"
   ]
  },
  {
   "cell_type": "code",
   "execution_count": 43,
   "id": "5c7b53ee",
   "metadata": {},
   "outputs": [
    {
     "data": {
      "text/plain": [
       "3           pineapple\n",
       "4          gala apple\n",
       "5    honeycrisp apple\n",
       "dtype: object"
      ]
     },
     "execution_count": 43,
     "metadata": {},
     "output_type": "execute_result"
    }
   ],
   "source": [
    "fruits[fruits.str.contains('apple')]"
   ]
  },
  {
   "cell_type": "code",
   "execution_count": 54,
   "id": "d1ce4427",
   "metadata": {},
   "outputs": [
    {
     "data": {
      "text/plain": [
       "True"
      ]
     },
     "execution_count": 54,
     "metadata": {},
     "output_type": "execute_result"
    }
   ],
   "source": [
    "#9 contains the most vowels?\n",
    "fruits.str.contains('a').max()"
   ]
  },
  {
   "cell_type": "code",
   "execution_count": 56,
   "id": "f21786ae",
   "metadata": {},
   "outputs": [
    {
     "data": {
      "text/plain": [
       "3           pineapple\n",
       "3           pineapple\n",
       "3           pineapple\n",
       "5    honeycrisp apple\n",
       "5    honeycrisp apple\n",
       "6              tomato\n",
       "4          gala apple\n",
       "5    honeycrisp apple\n",
       "4          gala apple\n",
       "3           pineapple\n",
       "3           pineapple\n",
       "3           pineapple\n",
       "3           pineapple\n",
       "3           pineapple\n",
       "3           pineapple\n",
       "5    honeycrisp apple\n",
       "4          gala apple\n",
       "dtype: object"
      ]
     },
     "execution_count": 56,
     "metadata": {},
     "output_type": "execute_result"
    }
   ],
   "source": [
    "fruits[fruits.str.count('a')+fruits.str.count('e')+fruits.str.count('i')+fruits.str.count('o')+fruits.str.count('u').max()]"
   ]
  },
  {
   "cell_type": "code",
   "execution_count": 57,
   "id": "47806755",
   "metadata": {},
   "outputs": [],
   "source": [
    "#exercise part III\n",
    "\n",
    "#1 Which letter occurs the most frequently in the letters Series?\n",
    "\n",
    "#2 Which letter occurs the Least frequently?\n",
    "\n",
    "#3 How many vowels are in the Series?\n",
    "\n",
    "#4 How many consonants are in the Series?\n",
    "\n",
    "#5 Create a Series that has all of the same letters but uppercased.\n",
    "\n",
    "#6 Create a bar plot of the frequencies of the 6 most commonly occuring letters."
   ]
  },
  {
   "cell_type": "code",
   "execution_count": 67,
   "id": "45063bcd",
   "metadata": {},
   "outputs": [
    {
     "name": "stdout",
     "output_type": "stream",
     "text": [
      "['h', 'n', 'v', 'i', 'd', 'd', 'u', 'c', 'k', 'k', 'q', 'x', 'w', 'y', 'm', 'b', 'i', 'm', 'k', 'c', 'c', 'e', 'x', 'b', 'k', 'm', 'q', 'y', 'g', 'k', 'x', 'o', 'y', 'n', 'd', 'm', 'c', 'x', 'n', 'w', 'q', 'a', 'r', 'h', 'y', 'f', 'f', 's', 'j', 'p', 's', 'r', 'a', 'b', 't', 'j', 'z', 's', 'y', 'p', 'm', 'z', 'a', 'd', 'f', 'a', 'v', 'y', 'r', 'n', 'n', 'd', 'n', 'd', 'v', 's', 'w', 'r', 'e', 'a', 'u', 'x', 'o', 'v', 'n', 'c', 'x', 't', 'w', 'z', 'p', 'w', 'e', 'j', 'i', 'l', 'z', 'j', 'r', 'm', 'm', 'b', 'b', 'g', 'b', 'y', 'x', 'v', 'j', 't', 'e', 'w', 'q', 't', 'h', 'a', 'f', 'n', 'b', 'k', 'q', 'p', 'l', 'a', 'r', 'o', 'k', 'k', 'y', 'y', 'd', 't', 'u', 'b', 'b', 'm', 'n', 'e', 'x', 'o', 'y', 'p', 'u', 'l', 'z', 'w', 'f', 'h', 'q', 'v', 'c', 'k', 'd', 'p', 'q', 't', 'p', 'o', 'p', 'p', 'z', 'q', 'r', 'm', 'c', 'v', 'h', 'h', 'p', 'w', 'g', 'j', 'w', 'u', 'p', 'g', 'z', 'h', 'i', 'o', 'f', 'o', 'h', 'a', 'w', 'y', 't', 'l', 's', 'i', 'y', 'e', 'c', 'u', 'p', 'r', 'o', 'g', 'u', 'y']\n"
     ]
    }
   ],
   "source": [
    "def Convert(string):\n",
    "    list1=[]\n",
    "    list1[:0]=string\n",
    "    return list1\n",
    "\n",
    "str1=\"hnvidduckkqxwymbimkccexbkmqygkxoyndmcxnwqarhyffsjpsrabtjzsypmzadfavyrnndndvswreauxovncxtwzpwejilzjrmmbbgbyxvjtewqthafnbkqplarokkyydtubbmnexoypulzwfhqvckdpqtpoppzqrmcvhhpwgjwupgzhiofohawytlsiyecuproguy\"\n",
    "print(Convert(str1))"
   ]
  },
  {
   "cell_type": "code",
   "execution_count": 68,
   "id": "15ae324a",
   "metadata": {},
   "outputs": [
    {
     "data": {
      "text/plain": [
       "pandas.core.series.Series"
      ]
     },
     "execution_count": 68,
     "metadata": {},
     "output_type": "execute_result"
    }
   ],
   "source": [
    "letters = pd.Series(['h', 'n', 'v', 'i', 'd', 'd', 'u', 'c', 'k', 'k', 'q', 'x', 'w', 'y', 'm', 'b', 'i', 'm', 'k', 'c', 'c', 'e', 'x', 'b', 'k', 'm', 'q', 'y', 'g', 'k', 'x', 'o', 'y', 'n', 'd', 'm', 'c', 'x', 'n', 'w', 'q', 'a', 'r', 'h', 'y', 'f', 'f', 's', 'j', 'p', 's', 'r', 'a', 'b', 't', 'j', 'z', 's', 'y', 'p', 'm', 'z', 'a', 'd', 'f', 'a', 'v', 'y', 'r', 'n', 'n', 'd', 'n', 'd', 'v', 's', 'w', 'r', 'e', 'a', 'u', 'x', 'o', 'v', 'n', 'c', 'x', 't', 'w', 'z', 'p', 'w', 'e', 'j', 'i', 'l', 'z', 'j', 'r', 'm', 'm', 'b', 'b', 'g', 'b', 'y', 'x', 'v', 'j', 't', 'e', 'w', 'q', 't', 'h', 'a', 'f', 'n', 'b', 'k', 'q', 'p', 'l', 'a', 'r', 'o', 'k', 'k', 'y', 'y', 'd', 't', 'u', 'b', 'b', 'm', 'n', 'e', 'x', 'o', 'y', 'p', 'u', 'l', 'z', 'w', 'f', 'h', 'q', 'v', 'c', 'k', 'd', 'p', 'q', 't', 'p', 'o', 'p', 'p', 'z', 'q', 'r', 'm', 'c', 'v', 'h', 'h', 'p', 'w', 'g', 'j', 'w', 'u', 'p', 'g', 'z', 'h', 'i', 'o', 'f', 'o', 'h', 'a', 'w', 'y', 't', 'l', 's', 'i', 'y', 'e', 'c', 'u', 'p', 'r', 'o', 'g', 'u', 'y'])\n",
    "type(letters)"
   ]
  },
  {
   "cell_type": "code",
   "execution_count": 80,
   "id": "a53f6364",
   "metadata": {},
   "outputs": [
    {
     "data": {
      "text/plain": [
       "'y'"
      ]
     },
     "execution_count": 80,
     "metadata": {},
     "output_type": "execute_result"
    }
   ],
   "source": [
    "#1\n",
    "letters[letters.value_counts().max()]"
   ]
  },
  {
   "cell_type": "code",
   "execution_count": 95,
   "id": "f9c68a58",
   "metadata": {},
   "outputs": [
    {
     "data": {
      "text/plain": [
       "'y'"
      ]
     },
     "execution_count": 95,
     "metadata": {},
     "output_type": "execute_result"
    }
   ],
   "source": [
    "letters.value_counts().idxmax()"
   ]
  },
  {
   "cell_type": "code",
   "execution_count": 93,
   "id": "4b0e64eb",
   "metadata": {},
   "outputs": [
    {
     "data": {
      "text/plain": [
       "(4, 'd')"
      ]
     },
     "execution_count": 93,
     "metadata": {},
     "output_type": "execute_result"
    }
   ],
   "source": [
    "#2 this is incorrect as it takes the first lowest character\n",
    "letters.value_counts().min(),letters[letters.value_counts().min()]"
   ]
  },
  {
   "cell_type": "code",
   "execution_count": 102,
   "id": "f529eefe",
   "metadata": {},
   "outputs": [
    {
     "data": {
      "text/plain": [
       "'l'"
      ]
     },
     "execution_count": 102,
     "metadata": {},
     "output_type": "execute_result"
    }
   ],
   "source": [
    "#2 correct way would be to use idxmin\n",
    "letters.value_counts().idxmin()"
   ]
  },
  {
   "cell_type": "code",
   "execution_count": 105,
   "id": "196e2069",
   "metadata": {},
   "outputs": [
    {
     "data": {
      "text/plain": [
       "False    192\n",
       "True       8\n",
       "dtype: int64"
      ]
     },
     "execution_count": 105,
     "metadata": {},
     "output_type": "execute_result"
    }
   ],
   "source": [
    "#3 counts a specific vowel\n",
    "letters.str.contains('a').value_counts()"
   ]
  },
  {
   "cell_type": "code",
   "execution_count": 103,
   "id": "8d611f89",
   "metadata": {},
   "outputs": [],
   "source": [
    "# create a function to identify the vowels in the string.\n",
    "def count_vowels(letter_string):\n",
    "    count = 0\n",
    "    for char in letter_string:\n",
    "        if char.lower() in 'aeiou':\n",
    "            count = count +1\n",
    "    return count"
   ]
  },
  {
   "cell_type": "code",
   "execution_count": 106,
   "id": "e49043ef",
   "metadata": {},
   "outputs": [
    {
     "data": {
      "text/plain": [
       "0    166\n",
       "1     34\n",
       "dtype: int64"
      ]
     },
     "execution_count": 106,
     "metadata": {},
     "output_type": "execute_result"
    }
   ],
   "source": [
    "#3 counts the total number of vowels in the string with .apply from function created and value counts.\n",
    "letters.apply(count_vowels).value_counts()"
   ]
  },
  {
   "cell_type": "code",
   "execution_count": null,
   "id": "917e9fd3",
   "metadata": {},
   "outputs": [],
   "source": []
  }
 ],
 "metadata": {
  "kernelspec": {
   "display_name": "Python 3 (ipykernel)",
   "language": "python",
   "name": "python3"
  },
  "language_info": {
   "codemirror_mode": {
    "name": "ipython",
    "version": 3
   },
   "file_extension": ".py",
   "mimetype": "text/x-python",
   "name": "python",
   "nbconvert_exporter": "python",
   "pygments_lexer": "ipython3",
   "version": "3.9.7"
  }
 },
 "nbformat": 4,
 "nbformat_minor": 5
}
