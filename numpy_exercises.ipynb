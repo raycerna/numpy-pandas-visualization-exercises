{
 "cells": [
  {
   "cell_type": "code",
   "execution_count": 1,
   "id": "78fb3e7d",
   "metadata": {},
   "outputs": [],
   "source": [
    "import numpy as np"
   ]
  },
  {
   "cell_type": "code",
   "execution_count": 2,
   "id": "84ba2948",
   "metadata": {},
   "outputs": [],
   "source": [
    "a = np.array([4, 10, 12, 23, -2, -1, 0, 0, 0, -6, 3, -7])\n"
   ]
  },
  {
   "cell_type": "code",
   "execution_count": 3,
   "id": "32b49c3c",
   "metadata": {},
   "outputs": [],
   "source": [
    "# 1 How many negative numbers are there?\n",
    "# 2 How many positive numbers are there?\n",
    "# 3 How many even positive numbers are there?\n",
    "# 4 If you were to add 3 to each data point, how many positive numbers would there be?\n",
    "# 5 If you squared each number, what would the new mean and standard deviation be?\n",
    "# 6 A common statistical operation on a dataset is centering. This means to adjust the data such that the mean of the data is 0. This is done by subtracting the mean from each data point. Center the data set. See this link for more on centering.\n",
    "# 7 Calculate the z-score for each data point.\n",
    "# 8 Copy the setup and exercise directions from More Numpy Practice into your numpy_exercises.py and add your solutions.\n",
    "\n",
    "# Awesome Bonus For much more practice with numpy, Go to https://github.com/rougier/numpy-100 and clone the repo down to your laptop. To clone a repository: - Copy the SSH address of the repository - cd ~/codeup-data-science - Then type git clone git@github.com:rougier/numpy-100.git - Now do cd numpy-100 on your terminal. - Type git remote remove origin, so you won't accidentally try to push your work to Rougier's repo.\n",
    "\n",
    "# Congratulations! You have cloned Rougier's 100 numpy exercises to your computer. Now you need to make a new, blank, repository on GitHub.\n",
    "\n",
    "# Go to https://github.com/new to make a new repo. Name it numpy-100. DO NOT check any check boxes. We need a blank, empty repo. Finally, follow the directions to \"push an existing repository from the command line\" so that you can push up your changes to your own account.\n",
    "\n",
    "# Now do work, add it, commit it, and push it!"
   ]
  },
  {
   "cell_type": "code",
   "execution_count": 4,
   "id": "afc12016",
   "metadata": {},
   "outputs": [
    {
     "data": {
      "text/plain": [
       "4"
      ]
     },
     "execution_count": 4,
     "metadata": {},
     "output_type": "execute_result"
    }
   ],
   "source": [
    "#1\n",
    "(a<0).sum()"
   ]
  },
  {
   "cell_type": "code",
   "execution_count": 5,
   "id": "3c0049d3",
   "metadata": {},
   "outputs": [
    {
     "data": {
      "text/plain": [
       "5"
      ]
     },
     "execution_count": 5,
     "metadata": {},
     "output_type": "execute_result"
    }
   ],
   "source": [
    "#2\n",
    "(a>0).sum()"
   ]
  },
  {
   "cell_type": "code",
   "execution_count": 6,
   "id": "641196e1",
   "metadata": {},
   "outputs": [
    {
     "data": {
      "text/plain": [
       "4"
      ]
     },
     "execution_count": 6,
     "metadata": {},
     "output_type": "execute_result"
    }
   ],
   "source": [
    "#3\n",
    "odd = a[a%2 == 1].size\n",
    "odd"
   ]
  },
  {
   "cell_type": "code",
   "execution_count": 7,
   "id": "2ad388d9",
   "metadata": {},
   "outputs": [
    {
     "data": {
      "text/plain": [
       "8"
      ]
     },
     "execution_count": 7,
     "metadata": {},
     "output_type": "execute_result"
    }
   ],
   "source": [
    "#3\n",
    "even = a[a%2 == 0].size\n",
    "even"
   ]
  },
  {
   "cell_type": "code",
   "execution_count": 8,
   "id": "c36b2803",
   "metadata": {},
   "outputs": [],
   "source": [
    "#3\n",
    "is_positive = a > 0"
   ]
  },
  {
   "cell_type": "code",
   "execution_count": 9,
   "id": "a5d949b1",
   "metadata": {},
   "outputs": [],
   "source": [
    "#3\n",
    "is_even = a % 2 == 0"
   ]
  },
  {
   "cell_type": "code",
   "execution_count": 10,
   "id": "61aac2b2",
   "metadata": {},
   "outputs": [
    {
     "data": {
      "text/plain": [
       "3"
      ]
     },
     "execution_count": 10,
     "metadata": {},
     "output_type": "execute_result"
    }
   ],
   "source": [
    "#3 \n",
    "a[(a > 0) & (a % 2 == 0)].size"
   ]
  },
  {
   "cell_type": "code",
   "execution_count": 11,
   "id": "a720dd0d",
   "metadata": {},
   "outputs": [
    {
     "data": {
      "text/plain": [
       "10"
      ]
     },
     "execution_count": 11,
     "metadata": {},
     "output_type": "execute_result"
    }
   ],
   "source": [
    "# 4 If you were to add 3 to each data point, how many positive numbers would there be?\n",
    "\n",
    "plus_three = a + 3\n",
    "(plus_three > -2).sum()"
   ]
  },
  {
   "cell_type": "code",
   "execution_count": 12,
   "id": "6c88c611",
   "metadata": {},
   "outputs": [
    {
     "data": {
      "text/plain": [
       "74.0"
      ]
     },
     "execution_count": 12,
     "metadata": {},
     "output_type": "execute_result"
    }
   ],
   "source": [
    "# 5 If you squared each number, what would the new mean and standard deviation be?\n",
    "\n",
    "(a**2).mean()"
   ]
  },
  {
   "cell_type": "code",
   "execution_count": 13,
   "id": "ea17420f",
   "metadata": {},
   "outputs": [
    {
     "data": {
      "text/plain": [
       "144.0243035046516"
      ]
     },
     "execution_count": 13,
     "metadata": {},
     "output_type": "execute_result"
    }
   ],
   "source": [
    "(a**2).std()"
   ]
  },
  {
   "cell_type": "code",
   "execution_count": 14,
   "id": "a090e5c9",
   "metadata": {},
   "outputs": [
    {
     "data": {
      "text/plain": [
       "3.0"
      ]
     },
     "execution_count": 14,
     "metadata": {},
     "output_type": "execute_result"
    }
   ],
   "source": [
    "# 6 A common statistical operation on a dataset is centering. \n",
    "# This means to adjust the data such that the mean of the data is 0. \n",
    "# This is done by subtracting the mean from each data point. \n",
    "# Center the data set. See this link for more on centering.\n",
    "\n",
    "average = a.mean()\n",
    "average"
   ]
  },
  {
   "cell_type": "code",
   "execution_count": 15,
   "id": "127b69ea",
   "metadata": {},
   "outputs": [
    {
     "data": {
      "text/plain": [
       "array([ -1.,  -7.,  -9., -20.,   5.,   4.,   3.,   3.,   3.,   9.,   0.,\n",
       "        10.])"
      ]
     },
     "execution_count": 15,
     "metadata": {},
     "output_type": "execute_result"
    }
   ],
   "source": [
    "(average - a)"
   ]
  },
  {
   "cell_type": "code",
   "execution_count": 16,
   "id": "744e7778",
   "metadata": {},
   "outputs": [
    {
     "data": {
      "text/plain": [
       "0.0"
      ]
     },
     "execution_count": 16,
     "metadata": {},
     "output_type": "execute_result"
    }
   ],
   "source": [
    "(a - a.mean()).mean()"
   ]
  },
  {
   "cell_type": "code",
   "execution_count": 17,
   "id": "37e257b1",
   "metadata": {},
   "outputs": [],
   "source": [
    "# 7 Calculate the z-score for each data point."
   ]
  },
  {
   "cell_type": "code",
   "execution_count": 18,
   "id": "3e9beb3c",
   "metadata": {},
   "outputs": [
    {
     "data": {
      "text/plain": [
       "array([  1.,   7.,   9.,  20.,  -5.,  -4.,  -3.,  -3.,  -3.,  -9.,   0.,\n",
       "       -10.])"
      ]
     },
     "execution_count": 18,
     "metadata": {},
     "output_type": "execute_result"
    }
   ],
   "source": [
    "numerator = (a - a.mean())\n",
    "numerator"
   ]
  },
  {
   "cell_type": "code",
   "execution_count": 19,
   "id": "913afced",
   "metadata": {},
   "outputs": [
    {
     "data": {
      "text/plain": [
       "3.0"
      ]
     },
     "execution_count": 19,
     "metadata": {},
     "output_type": "execute_result"
    }
   ],
   "source": [
    "a.mean()"
   ]
  },
  {
   "cell_type": "code",
   "execution_count": 20,
   "id": "809b98c5",
   "metadata": {},
   "outputs": [
    {
     "data": {
      "text/plain": [
       "8.06225774829855"
      ]
     },
     "execution_count": 20,
     "metadata": {},
     "output_type": "execute_result"
    }
   ],
   "source": [
    "denominator = a.std()\n",
    "denominator"
   ]
  },
  {
   "cell_type": "code",
   "execution_count": 21,
   "id": "19a90057",
   "metadata": {},
   "outputs": [
    {
     "data": {
      "text/plain": [
       "array([ 0.12403473,  0.86824314,  1.11631261,  2.48069469, -0.62017367,\n",
       "       -0.49613894, -0.3721042 , -0.3721042 , -0.3721042 , -1.11631261,\n",
       "        0.        , -1.24034735])"
      ]
     },
     "execution_count": 21,
     "metadata": {},
     "output_type": "execute_result"
    }
   ],
   "source": [
    "numerator / denominator"
   ]
  },
  {
   "cell_type": "code",
   "execution_count": 22,
   "id": "ffa36737",
   "metadata": {},
   "outputs": [],
   "source": [
    "import scipy.stats as stats\n"
   ]
  },
  {
   "cell_type": "code",
   "execution_count": 23,
   "id": "909401bc",
   "metadata": {},
   "outputs": [
    {
     "data": {
      "text/plain": [
       "array([ 0.12403473,  0.86824314,  1.11631261,  2.48069469, -0.62017367,\n",
       "       -0.49613894, -0.3721042 , -0.3721042 , -0.3721042 , -1.11631261,\n",
       "        0.        , -1.24034735])"
      ]
     },
     "execution_count": 23,
     "metadata": {},
     "output_type": "execute_result"
    }
   ],
   "source": [
    "stats.zscore(a)"
   ]
  },
  {
   "cell_type": "code",
   "execution_count": null,
   "id": "64c18ebf",
   "metadata": {},
   "outputs": [],
   "source": []
  }
 ],
 "metadata": {
  "kernelspec": {
   "display_name": "Python 3 (ipykernel)",
   "language": "python",
   "name": "python3"
  },
  "language_info": {
   "codemirror_mode": {
    "name": "ipython",
    "version": 3
   },
   "file_extension": ".py",
   "mimetype": "text/x-python",
   "name": "python",
   "nbconvert_exporter": "python",
   "pygments_lexer": "ipython3",
   "version": "3.9.7"
  }
 },
 "nbformat": 4,
 "nbformat_minor": 5
}
