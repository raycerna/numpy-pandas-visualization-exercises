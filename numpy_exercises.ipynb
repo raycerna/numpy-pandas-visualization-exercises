{
 "cells": [
  {
   "cell_type": "code",
   "execution_count": 1,
   "id": "55972823",
   "metadata": {},
   "outputs": [],
   "source": [
    "import numpy as np"
   ]
  },
  {
   "cell_type": "code",
   "execution_count": 15,
   "id": "93289380",
   "metadata": {},
   "outputs": [],
   "source": [
    "a = np.array([4, 10, 12, 23, -2, -1, 0, 0, 0, -6, 3, -7])\n"
   ]
  },
  {
   "cell_type": "code",
   "execution_count": 7,
   "id": "e85c5b93",
   "metadata": {},
   "outputs": [],
   "source": [
    "# 1 How many negative numbers are there?\n",
    "# 2 How many positive numbers are there?\n",
    "# 3 How many even positive numbers are there?\n",
    "# 4 If you were to add 3 to each data point, how many positive numbers would there be?\n",
    "# 5 If you squared each number, what would the new mean and standard deviation be?\n",
    "# 6 A common statistical operation on a dataset is centering. This means to adjust the data such that the mean of the data is 0. This is done by subtracting the mean from each data point. Center the data set. See this link for more on centering.\n",
    "# 7 Calculate the z-score for each data point.\n",
    "# 8 Copy the setup and exercise directions from More Numpy Practice into your numpy_exercises.py and add your solutions.\n",
    "\n",
    "# Awesome Bonus For much more practice with numpy, Go to https://github.com/rougier/numpy-100 and clone the repo down to your laptop. To clone a repository: - Copy the SSH address of the repository - cd ~/codeup-data-science - Then type git clone git@github.com:rougier/numpy-100.git - Now do cd numpy-100 on your terminal. - Type git remote remove origin, so you won't accidentally try to push your work to Rougier's repo.\n",
    "\n",
    "# Congratulations! You have cloned Rougier's 100 numpy exercises to your computer. Now you need to make a new, blank, repository on GitHub.\n",
    "\n",
    "# Go to https://github.com/new to make a new repo. Name it numpy-100. DO NOT check any check boxes. We need a blank, empty repo. Finally, follow the directions to \"push an existing repository from the command line\" so that you can push up your changes to your own account.\n",
    "\n",
    "# Now do work, add it, commit it, and push it!"
   ]
  },
  {
   "cell_type": "code",
   "execution_count": 14,
   "id": "236a81ff",
   "metadata": {},
   "outputs": [
    {
     "data": {
      "text/plain": [
       "4"
      ]
     },
     "execution_count": 14,
     "metadata": {},
     "output_type": "execute_result"
    }
   ],
   "source": [
    "#1\n",
    "(a<0).sum()"
   ]
  },
  {
   "cell_type": "code",
   "execution_count": 10,
   "id": "489a8169",
   "metadata": {},
   "outputs": [
    {
     "data": {
      "text/plain": [
       "5"
      ]
     },
     "execution_count": 10,
     "metadata": {},
     "output_type": "execute_result"
    }
   ],
   "source": [
    "#2\n",
    "(a>0).sum()"
   ]
  },
  {
   "cell_type": "code",
   "execution_count": 31,
   "id": "27607fe4",
   "metadata": {},
   "outputs": [
    {
     "data": {
      "text/plain": [
       "4"
      ]
     },
     "execution_count": 31,
     "metadata": {},
     "output_type": "execute_result"
    }
   ],
   "source": [
    "#3\n",
    "odd = a[a%2 == 1].size\n",
    "odd"
   ]
  },
  {
   "cell_type": "code",
   "execution_count": 22,
   "id": "f9126869",
   "metadata": {},
   "outputs": [
    {
     "data": {
      "text/plain": [
       "8"
      ]
     },
     "execution_count": 22,
     "metadata": {},
     "output_type": "execute_result"
    }
   ],
   "source": [
    "#3\n",
    "even = a[a%2 == 0].size\n",
    "even"
   ]
  },
  {
   "cell_type": "code",
   "execution_count": 29,
   "id": "386f4142",
   "metadata": {},
   "outputs": [
    {
     "ename": "SyntaxError",
     "evalue": "invalid syntax (586603608.py, line 2)",
     "output_type": "error",
     "traceback": [
      "\u001b[0;36m  File \u001b[0;32m\"/var/folders/bk/zhdff0zs3yz8v31x8wdnftxm0000gn/T/ipykernel_65440/586603608.py\"\u001b[0;36m, line \u001b[0;32m2\u001b[0m\n\u001b[0;31m    is_positive = a > 0.size\u001b[0m\n\u001b[0m                        ^\u001b[0m\n\u001b[0;31mSyntaxError\u001b[0m\u001b[0;31m:\u001b[0m invalid syntax\n"
     ]
    }
   ],
   "source": [
    "#3\n",
    "is_positive = a > 0"
   ]
  },
  {
   "cell_type": "code",
   "execution_count": 27,
   "id": "368e723a",
   "metadata": {},
   "outputs": [],
   "source": [
    "#3\n",
    "is_even = a % 2 == 0"
   ]
  },
  {
   "cell_type": "code",
   "execution_count": 30,
   "id": "0c7b3be7",
   "metadata": {},
   "outputs": [
    {
     "data": {
      "text/plain": [
       "3"
      ]
     },
     "execution_count": 30,
     "metadata": {},
     "output_type": "execute_result"
    }
   ],
   "source": [
    "#3 \n",
    "a[(a > 0) & (a % 2 == 0)].size"
   ]
  },
  {
   "cell_type": "code",
   "execution_count": null,
   "id": "accda3ab",
   "metadata": {},
   "outputs": [],
   "source": [
    "# 4 If you were to add 3 to each data point, how many positive numbers would there be?"
   ]
  }
 ],
 "metadata": {
  "kernelspec": {
   "display_name": "Python 3 (ipykernel)",
   "language": "python",
   "name": "python3"
  },
  "language_info": {
   "codemirror_mode": {
    "name": "ipython",
    "version": 3
   },
   "file_extension": ".py",
   "mimetype": "text/x-python",
   "name": "python",
   "nbconvert_exporter": "python",
   "pygments_lexer": "ipython3",
   "version": "3.9.7"
  }
 },
 "nbformat": 4,
 "nbformat_minor": 5
}
