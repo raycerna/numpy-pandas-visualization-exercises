{
 "cells": [
  {
   "cell_type": "code",
   "execution_count": 32,
   "id": "90744c9f",
   "metadata": {},
   "outputs": [],
   "source": [
    "import numpy as np"
   ]
  },
  {
   "cell_type": "code",
   "execution_count": 33,
   "id": "d8970f07",
   "metadata": {},
   "outputs": [],
   "source": [
    "a = np.array([4, 10, 12, 23, -2, -1, 0, 0, 0, -6, 3, -7])\n"
   ]
  },
  {
   "cell_type": "code",
   "execution_count": 7,
   "id": "b1849c41",
   "metadata": {},
   "outputs": [],
   "source": [
    "# 1 How many negative numbers are there?\n",
    "# 2 How many positive numbers are there?\n",
    "# 3 How many even positive numbers are there?\n",
    "# 4 If you were to add 3 to each data point, how many positive numbers would there be?\n",
    "# 5 If you squared each number, what would the new mean and standard deviation be?\n",
    "# 6 A common statistical operation on a dataset is centering. This means to adjust the data such that the mean of the data is 0. This is done by subtracting the mean from each data point. Center the data set. See this link for more on centering.\n",
    "# 7 Calculate the z-score for each data point.\n",
    "# 8 Copy the setup and exercise directions from More Numpy Practice into your numpy_exercises.py and add your solutions.\n",
    "\n",
    "# Awesome Bonus For much more practice with numpy, Go to https://github.com/rougier/numpy-100 and clone the repo down to your laptop. To clone a repository: - Copy the SSH address of the repository - cd ~/codeup-data-science - Then type git clone git@github.com:rougier/numpy-100.git - Now do cd numpy-100 on your terminal. - Type git remote remove origin, so you won't accidentally try to push your work to Rougier's repo.\n",
    "\n",
    "# Congratulations! You have cloned Rougier's 100 numpy exercises to your computer. Now you need to make a new, blank, repository on GitHub.\n",
    "\n",
    "# Go to https://github.com/new to make a new repo. Name it numpy-100. DO NOT check any check boxes. We need a blank, empty repo. Finally, follow the directions to \"push an existing repository from the command line\" so that you can push up your changes to your own account.\n",
    "\n",
    "# Now do work, add it, commit it, and push it!"
   ]
  },
  {
   "cell_type": "code",
   "execution_count": 34,
   "id": "0a10e80a",
   "metadata": {},
   "outputs": [
    {
     "data": {
      "text/plain": [
       "4"
      ]
     },
     "execution_count": 34,
     "metadata": {},
     "output_type": "execute_result"
    }
   ],
   "source": [
    "#1\n",
    "(a<0).sum()"
   ]
  },
  {
   "cell_type": "code",
   "execution_count": 35,
   "id": "cf9841bb",
   "metadata": {},
   "outputs": [
    {
     "data": {
      "text/plain": [
       "5"
      ]
     },
     "execution_count": 35,
     "metadata": {},
     "output_type": "execute_result"
    }
   ],
   "source": [
    "#2\n",
    "(a>0).sum()"
   ]
  },
  {
   "cell_type": "code",
   "execution_count": 36,
   "id": "bf8fdb9d",
   "metadata": {},
   "outputs": [
    {
     "data": {
      "text/plain": [
       "4"
      ]
     },
     "execution_count": 36,
     "metadata": {},
     "output_type": "execute_result"
    }
   ],
   "source": [
    "#3\n",
    "odd = a[a%2 == 1].size\n",
    "odd"
   ]
  },
  {
   "cell_type": "code",
   "execution_count": 37,
   "id": "86b5bcd5",
   "metadata": {},
   "outputs": [
    {
     "data": {
      "text/plain": [
       "8"
      ]
     },
     "execution_count": 37,
     "metadata": {},
     "output_type": "execute_result"
    }
   ],
   "source": [
    "#3\n",
    "even = a[a%2 == 0].size\n",
    "even"
   ]
  },
  {
   "cell_type": "code",
   "execution_count": 38,
   "id": "6b923b72",
   "metadata": {},
   "outputs": [],
   "source": [
    "#3\n",
    "is_positive = a > 0"
   ]
  },
  {
   "cell_type": "code",
   "execution_count": 39,
   "id": "f33c70ef",
   "metadata": {},
   "outputs": [],
   "source": [
    "#3\n",
    "is_even = a % 2 == 0"
   ]
  },
  {
   "cell_type": "code",
   "execution_count": 40,
   "id": "ca885981",
   "metadata": {},
   "outputs": [
    {
     "data": {
      "text/plain": [
       "3"
      ]
     },
     "execution_count": 40,
     "metadata": {},
     "output_type": "execute_result"
    }
   ],
   "source": [
    "#3 \n",
    "a[(a > 0) & (a % 2 == 0)].size"
   ]
  },
  {
   "cell_type": "code",
   "execution_count": 51,
   "id": "a89ab18f",
   "metadata": {},
   "outputs": [
    {
     "data": {
      "text/plain": [
       "10"
      ]
     },
     "execution_count": 51,
     "metadata": {},
     "output_type": "execute_result"
    }
   ],
   "source": [
    "# 4 If you were to add 3 to each data point, how many positive numbers would there be?\n",
    "\n",
    "plus_three = a + 3\n",
    "(plus_three > -2).sum()"
   ]
  },
  {
   "cell_type": "code",
   "execution_count": 56,
   "id": "fb2c65ec",
   "metadata": {},
   "outputs": [
    {
     "data": {
      "text/plain": [
       "74.0"
      ]
     },
     "execution_count": 56,
     "metadata": {},
     "output_type": "execute_result"
    }
   ],
   "source": [
    "# 5 If you squared each number, what would the new mean and standard deviation be?\n",
    "\n",
    "(a**2).mean()"
   ]
  },
  {
   "cell_type": "code",
   "execution_count": 61,
   "id": "057e5a0f",
   "metadata": {},
   "outputs": [
    {
     "data": {
      "text/plain": [
       "144.0243035046516"
      ]
     },
     "execution_count": 61,
     "metadata": {},
     "output_type": "execute_result"
    }
   ],
   "source": [
    "(a**2).std()"
   ]
  },
  {
   "cell_type": "code",
   "execution_count": 65,
   "id": "793f37ba",
   "metadata": {},
   "outputs": [
    {
     "data": {
      "text/plain": [
       "3.0"
      ]
     },
     "execution_count": 65,
     "metadata": {},
     "output_type": "execute_result"
    }
   ],
   "source": [
    "# 6 A common statistical operation on a dataset is centering. \n",
    "# This means to adjust the data such that the mean of the data is 0. \n",
    "# This is done by subtracting the mean from each data point. \n",
    "# Center the data set. See this link for more on centering.\n",
    "\n",
    "average = a.mean()\n",
    "average"
   ]
  },
  {
   "cell_type": "code",
   "execution_count": 69,
   "id": "153275df",
   "metadata": {},
   "outputs": [
    {
     "data": {
      "text/plain": [
       "array([ -1.,  -7.,  -9., -20.,   5.,   4.,   3.,   3.,   3.,   9.,   0.,\n",
       "        10.])"
      ]
     },
     "execution_count": 69,
     "metadata": {},
     "output_type": "execute_result"
    }
   ],
   "source": [
    "(average - a)"
   ]
  },
  {
   "cell_type": "code",
   "execution_count": 71,
   "id": "5e9acc16",
   "metadata": {},
   "outputs": [
    {
     "data": {
      "text/plain": [
       "0.0"
      ]
     },
     "execution_count": 71,
     "metadata": {},
     "output_type": "execute_result"
    }
   ],
   "source": [
    "(a - a.mean()).mean()"
   ]
  },
  {
   "cell_type": "code",
   "execution_count": null,
   "id": "2f49625e",
   "metadata": {},
   "outputs": [],
   "source": []
  }
 ],
 "metadata": {
  "kernelspec": {
   "display_name": "Python 3 (ipykernel)",
   "language": "python",
   "name": "python3"
  },
  "language_info": {
   "codemirror_mode": {
    "name": "ipython",
    "version": 3
   },
   "file_extension": ".py",
   "mimetype": "text/x-python",
   "name": "python",
   "nbconvert_exporter": "python",
   "pygments_lexer": "ipython3",
   "version": "3.9.7"
  }
 },
 "nbformat": 4,
 "nbformat_minor": 5
}
