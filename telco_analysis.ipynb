{
 "cells": [
  {
   "cell_type": "code",
   "execution_count": 1,
   "id": "e2d8dc48",
   "metadata": {},
   "outputs": [],
   "source": [
    "import seaborn as sns\n",
    "import matplotlib.pyplot as plt\n",
    "import pandas as pd\n",
    "\n",
    "telco = pd.read_csv(r\"/Users/Ray/downloads/jemison_spreadsheet_exercises - RDS - Table1_CustDetails.csv\")"
   ]
  },
  {
   "cell_type": "code",
   "execution_count": 2,
   "id": "a5bed945",
   "metadata": {},
   "outputs": [
    {
     "data": {
      "text/html": [
       "<div>\n",
       "<style scoped>\n",
       "    .dataframe tbody tr th:only-of-type {\n",
       "        vertical-align: middle;\n",
       "    }\n",
       "\n",
       "    .dataframe tbody tr th {\n",
       "        vertical-align: top;\n",
       "    }\n",
       "\n",
       "    .dataframe thead th {\n",
       "        text-align: right;\n",
       "    }\n",
       "</style>\n",
       "<table border=\"1\" class=\"dataframe\">\n",
       "  <thead>\n",
       "    <tr style=\"text-align: right;\">\n",
       "      <th></th>\n",
       "      <th>customer_id</th>\n",
       "      <th>gender</th>\n",
       "      <th>is_senior_citizen</th>\n",
       "      <th>partner</th>\n",
       "      <th>dependents</th>\n",
       "      <th>phone_service</th>\n",
       "      <th>internet_service</th>\n",
       "      <th>contract_type</th>\n",
       "      <th>payment_type</th>\n",
       "      <th>monthly_charges</th>\n",
       "      <th>total_charges</th>\n",
       "      <th>churn</th>\n",
       "      <th>tenure</th>\n",
       "    </tr>\n",
       "  </thead>\n",
       "  <tbody>\n",
       "    <tr>\n",
       "      <th>0</th>\n",
       "      <td>0002-ORFBO</td>\n",
       "      <td>Female</td>\n",
       "      <td>0</td>\n",
       "      <td>Yes</td>\n",
       "      <td>Yes</td>\n",
       "      <td>1</td>\n",
       "      <td>1</td>\n",
       "      <td>1</td>\n",
       "      <td>Mailed check</td>\n",
       "      <td>65.6</td>\n",
       "      <td>593.30</td>\n",
       "      <td>No</td>\n",
       "      <td>9.0</td>\n",
       "    </tr>\n",
       "    <tr>\n",
       "      <th>1</th>\n",
       "      <td>0003-MKNFE</td>\n",
       "      <td>Male</td>\n",
       "      <td>0</td>\n",
       "      <td>No</td>\n",
       "      <td>No</td>\n",
       "      <td>2</td>\n",
       "      <td>1</td>\n",
       "      <td>0</td>\n",
       "      <td>Mailed check</td>\n",
       "      <td>59.9</td>\n",
       "      <td>542.40</td>\n",
       "      <td>No</td>\n",
       "      <td>9.1</td>\n",
       "    </tr>\n",
       "    <tr>\n",
       "      <th>2</th>\n",
       "      <td>0004-TLHLJ</td>\n",
       "      <td>Male</td>\n",
       "      <td>0</td>\n",
       "      <td>No</td>\n",
       "      <td>No</td>\n",
       "      <td>1</td>\n",
       "      <td>2</td>\n",
       "      <td>0</td>\n",
       "      <td>Electronic check</td>\n",
       "      <td>73.9</td>\n",
       "      <td>280.85</td>\n",
       "      <td>Yes</td>\n",
       "      <td>3.8</td>\n",
       "    </tr>\n",
       "    <tr>\n",
       "      <th>3</th>\n",
       "      <td>0011-IGKFF</td>\n",
       "      <td>Male</td>\n",
       "      <td>1</td>\n",
       "      <td>Yes</td>\n",
       "      <td>No</td>\n",
       "      <td>1</td>\n",
       "      <td>2</td>\n",
       "      <td>0</td>\n",
       "      <td>Electronic check</td>\n",
       "      <td>98.0</td>\n",
       "      <td>1237.85</td>\n",
       "      <td>Yes</td>\n",
       "      <td>12.6</td>\n",
       "    </tr>\n",
       "    <tr>\n",
       "      <th>4</th>\n",
       "      <td>0013-EXCHZ</td>\n",
       "      <td>Female</td>\n",
       "      <td>1</td>\n",
       "      <td>Yes</td>\n",
       "      <td>No</td>\n",
       "      <td>1</td>\n",
       "      <td>2</td>\n",
       "      <td>0</td>\n",
       "      <td>Mailed check</td>\n",
       "      <td>83.9</td>\n",
       "      <td>267.40</td>\n",
       "      <td>Yes</td>\n",
       "      <td>3.2</td>\n",
       "    </tr>\n",
       "  </tbody>\n",
       "</table>\n",
       "</div>"
      ],
      "text/plain": [
       "  customer_id  gender  is_senior_citizen partner dependents  phone_service  \\\n",
       "0  0002-ORFBO  Female                  0     Yes        Yes              1   \n",
       "1  0003-MKNFE    Male                  0      No         No              2   \n",
       "2  0004-TLHLJ    Male                  0      No         No              1   \n",
       "3  0011-IGKFF    Male                  1     Yes         No              1   \n",
       "4  0013-EXCHZ  Female                  1     Yes         No              1   \n",
       "\n",
       "   internet_service  contract_type      payment_type  monthly_charges  \\\n",
       "0                 1              1      Mailed check             65.6   \n",
       "1                 1              0      Mailed check             59.9   \n",
       "2                 2              0  Electronic check             73.9   \n",
       "3                 2              0  Electronic check             98.0   \n",
       "4                 2              0      Mailed check             83.9   \n",
       "\n",
       "   total_charges churn  tenure  \n",
       "0         593.30    No     9.0  \n",
       "1         542.40    No     9.1  \n",
       "2         280.85   Yes     3.8  \n",
       "3        1237.85   Yes    12.6  \n",
       "4         267.40   Yes     3.2  "
      ]
     },
     "execution_count": 2,
     "metadata": {},
     "output_type": "execute_result"
    }
   ],
   "source": [
    "telco.head()"
   ]
  },
  {
   "cell_type": "code",
   "execution_count": 3,
   "id": "1379fb6f",
   "metadata": {},
   "outputs": [
    {
     "data": {
      "text/html": [
       "<div>\n",
       "<style scoped>\n",
       "    .dataframe tbody tr th:only-of-type {\n",
       "        vertical-align: middle;\n",
       "    }\n",
       "\n",
       "    .dataframe tbody tr th {\n",
       "        vertical-align: top;\n",
       "    }\n",
       "\n",
       "    .dataframe thead th {\n",
       "        text-align: right;\n",
       "    }\n",
       "</style>\n",
       "<table border=\"1\" class=\"dataframe\">\n",
       "  <thead>\n",
       "    <tr style=\"text-align: right;\">\n",
       "      <th></th>\n",
       "      <th>0</th>\n",
       "      <th>1</th>\n",
       "    </tr>\n",
       "  </thead>\n",
       "  <tbody>\n",
       "    <tr>\n",
       "      <th>customer_id</th>\n",
       "      <td>0002-ORFBO</td>\n",
       "      <td>0003-MKNFE</td>\n",
       "    </tr>\n",
       "    <tr>\n",
       "      <th>gender</th>\n",
       "      <td>Female</td>\n",
       "      <td>Male</td>\n",
       "    </tr>\n",
       "    <tr>\n",
       "      <th>is_senior_citizen</th>\n",
       "      <td>0</td>\n",
       "      <td>0</td>\n",
       "    </tr>\n",
       "    <tr>\n",
       "      <th>partner</th>\n",
       "      <td>Yes</td>\n",
       "      <td>No</td>\n",
       "    </tr>\n",
       "    <tr>\n",
       "      <th>dependents</th>\n",
       "      <td>Yes</td>\n",
       "      <td>No</td>\n",
       "    </tr>\n",
       "    <tr>\n",
       "      <th>phone_service</th>\n",
       "      <td>1</td>\n",
       "      <td>2</td>\n",
       "    </tr>\n",
       "    <tr>\n",
       "      <th>internet_service</th>\n",
       "      <td>1</td>\n",
       "      <td>1</td>\n",
       "    </tr>\n",
       "    <tr>\n",
       "      <th>contract_type</th>\n",
       "      <td>1</td>\n",
       "      <td>0</td>\n",
       "    </tr>\n",
       "    <tr>\n",
       "      <th>payment_type</th>\n",
       "      <td>Mailed check</td>\n",
       "      <td>Mailed check</td>\n",
       "    </tr>\n",
       "    <tr>\n",
       "      <th>monthly_charges</th>\n",
       "      <td>65.6</td>\n",
       "      <td>59.9</td>\n",
       "    </tr>\n",
       "    <tr>\n",
       "      <th>total_charges</th>\n",
       "      <td>593.3</td>\n",
       "      <td>542.4</td>\n",
       "    </tr>\n",
       "    <tr>\n",
       "      <th>churn</th>\n",
       "      <td>No</td>\n",
       "      <td>No</td>\n",
       "    </tr>\n",
       "    <tr>\n",
       "      <th>tenure</th>\n",
       "      <td>9.0</td>\n",
       "      <td>9.1</td>\n",
       "    </tr>\n",
       "  </tbody>\n",
       "</table>\n",
       "</div>"
      ],
      "text/plain": [
       "                              0             1\n",
       "customer_id          0002-ORFBO    0003-MKNFE\n",
       "gender                   Female          Male\n",
       "is_senior_citizen             0             0\n",
       "partner                     Yes            No\n",
       "dependents                  Yes            No\n",
       "phone_service                 1             2\n",
       "internet_service              1             1\n",
       "contract_type                 1             0\n",
       "payment_type       Mailed check  Mailed check\n",
       "monthly_charges            65.6          59.9\n",
       "total_charges             593.3         542.4\n",
       "churn                        No            No\n",
       "tenure                      9.0           9.1"
      ]
     },
     "execution_count": 3,
     "metadata": {},
     "output_type": "execute_result"
    }
   ],
   "source": [
    "telco.head(2).T"
   ]
  },
  {
   "cell_type": "code",
   "execution_count": 4,
   "id": "d619361f",
   "metadata": {},
   "outputs": [
    {
     "data": {
      "text/plain": [
       "Male      3558\n",
       "Female    3491\n",
       "Name: gender, dtype: int64"
      ]
     },
     "execution_count": 4,
     "metadata": {},
     "output_type": "execute_result"
    }
   ],
   "source": [
    "telco.gender.value_counts()"
   ]
  },
  {
   "cell_type": "code",
   "execution_count": 5,
   "id": "52508abe",
   "metadata": {},
   "outputs": [
    {
     "data": {
      "text/plain": [
       "0    5907\n",
       "1    1142\n",
       "Name: is_senior_citizen, dtype: int64"
      ]
     },
     "execution_count": 5,
     "metadata": {},
     "output_type": "execute_result"
    }
   ],
   "source": [
    "telco.is_senior_citizen.value_counts()"
   ]
  },
  {
   "cell_type": "code",
   "execution_count": 6,
   "id": "8dc28f35",
   "metadata": {},
   "outputs": [
    {
     "data": {
      "text/plain": [
       "No     3642\n",
       "Yes    3407\n",
       "Name: partner, dtype: int64"
      ]
     },
     "execution_count": 6,
     "metadata": {},
     "output_type": "execute_result"
    }
   ],
   "source": [
    "telco.partner.value_counts()"
   ]
  },
  {
   "cell_type": "code",
   "execution_count": 7,
   "id": "5974b8ef",
   "metadata": {},
   "outputs": [
    {
     "data": {
      "text/plain": [
       "No     4934\n",
       "Yes    2115\n",
       "Name: dependents, dtype: int64"
      ]
     },
     "execution_count": 7,
     "metadata": {},
     "output_type": "execute_result"
    }
   ],
   "source": [
    "telco.dependents.value_counts()"
   ]
  },
  {
   "cell_type": "code",
   "execution_count": 8,
   "id": "a7439108",
   "metadata": {},
   "outputs": [
    {
     "data": {
      "text/plain": [
       "7049"
      ]
     },
     "execution_count": 8,
     "metadata": {},
     "output_type": "execute_result"
    }
   ],
   "source": [
    "telco.customer_id.count()"
   ]
  },
  {
   "cell_type": "code",
   "execution_count": 13,
   "id": "f1a150bc",
   "metadata": {},
   "outputs": [
    {
     "data": {
      "text/plain": [
       "is_senior_citizen  partner  dependents  contract_type  churn\n",
       "0                  No       No          0              No       1051\n",
       "                                                       Yes       783\n",
       "                                        1              No        444\n",
       "                                                       Yes        50\n",
       "                                        2              No        378\n",
       "                                                       Yes        14\n",
       "                            Yes         0              No        134\n",
       "                                                       Yes        66\n",
       "                                        1              No         77\n",
       "                                                       Yes         7\n",
       "                                        2              No         67\n",
       "                                                       Yes         2\n",
       "                   Yes      No          0              No        304\n",
       "                                                       Yes       190\n",
       "                                        1              No        245\n",
       "                                                       Yes        40\n",
       "                                        2              No        372\n",
       "                                                       Yes        12\n",
       "                            Yes         0              No        365\n",
       "                                                       Yes       176\n",
       "                                        1              No        383\n",
       "                                                       Yes        40\n",
       "                                        2              No        693\n",
       "                                                       Yes        14\n",
       "1                  No       No          0              No        190\n",
       "                                                       Yes       264\n",
       "                                        1              No         54\n",
       "                                                       Yes        11\n",
       "                                        2              No         41\n",
       "                                                       Yes         1\n",
       "                            Yes         0              No          5\n",
       "                                                       Yes         2\n",
       "                                        1              No          1\n",
       "                   Yes      No          0              No        145\n",
       "                                                       Yes       159\n",
       "                                        1              No         83\n",
       "                                                       Yes        16\n",
       "                                        2              No         84\n",
       "                                                       Yes         3\n",
       "                            Yes         0              No         26\n",
       "                                                       Yes        16\n",
       "                                        1              No         23\n",
       "                                                       Yes         2\n",
       "                                        2              No         14\n",
       "                                                       Yes         2\n",
       "dtype: int64"
      ]
     },
     "execution_count": 13,
     "metadata": {},
     "output_type": "execute_result"
    }
   ],
   "source": [
    "telco.groupby([\"is_senior_citizen\", \"partner\", \"dependents\", \"contract_type\", \"churn\"]).size()"
   ]
  },
  {
   "cell_type": "code",
   "execution_count": 16,
   "id": "450c6588",
   "metadata": {},
   "outputs": [
    {
     "data": {
      "text/plain": [
       "churn  dependents  partner  is_senior_citizen\n",
       "No     No          No       0                    1873\n",
       "       Yes         Yes      0                    1441\n",
       "       No          Yes      0                     921\n",
       "Yes    No          No       0                     847\n",
       "No     No          Yes      1                     312\n",
       "                   No       1                     285\n",
       "       Yes         No       0                     278\n",
       "Yes    No          No       1                     276\n",
       "                   Yes      0                     242\n",
       "       Yes         Yes      0                     230\n",
       "       No          Yes      1                     178\n",
       "       Yes         No       0                      75\n",
       "No     Yes         Yes      1                      63\n",
       "Yes    Yes         Yes      1                      20\n",
       "No     Yes         No       1                       6\n",
       "Yes    Yes         No       1                       2\n",
       "dtype: int64"
      ]
     },
     "execution_count": 16,
     "metadata": {},
     "output_type": "execute_result"
    }
   ],
   "source": [
    "telco.value_counts([\"churn\", \"dependents\", \"partner\", \"is_senior_citizen\"])"
   ]
  },
  {
   "cell_type": "code",
   "execution_count": 24,
   "id": "3f6e6a78",
   "metadata": {},
   "outputs": [
    {
     "data": {
      "text/plain": [
       "No     5179\n",
       "Yes    1870\n",
       "Name: churn, dtype: int64"
      ]
     },
     "execution_count": 24,
     "metadata": {},
     "output_type": "execute_result"
    }
   ],
   "source": [
    "telco.churn.value_counts()\n"
   ]
  },
  {
   "cell_type": "code",
   "execution_count": 37,
   "id": "776334f1",
   "metadata": {},
   "outputs": [
    {
     "data": {
      "text/plain": [
       "1870"
      ]
     },
     "execution_count": 37,
     "metadata": {},
     "output_type": "execute_result"
    }
   ],
   "source": [
    "len(telco[telco.churn == 'Yes'])"
   ]
  },
  {
   "cell_type": "code",
   "execution_count": 28,
   "id": "37ec8287",
   "metadata": {},
   "outputs": [
    {
     "data": {
      "text/plain": [
       "0.2652858561498085"
      ]
     },
     "execution_count": 28,
     "metadata": {},
     "output_type": "execute_result"
    }
   ],
   "source": [
    "1870/telco.customer_id.count()"
   ]
  },
  {
   "cell_type": "code",
   "execution_count": 38,
   "id": "f55064c5",
   "metadata": {},
   "outputs": [
    {
     "data": {
      "text/plain": [
       "0.2652858561498085"
      ]
     },
     "execution_count": 38,
     "metadata": {},
     "output_type": "execute_result"
    }
   ],
   "source": [
    "len(telco[telco.churn == 'Yes'])/telco.customer_id.count()*100"
   ]
  },
  {
   "cell_type": "code",
   "execution_count": 26,
   "id": "ab294a96",
   "metadata": {},
   "outputs": [
    {
     "ename": "AttributeError",
     "evalue": "module 'pandas' has no attribute 'telco'",
     "output_type": "error",
     "traceback": [
      "\u001b[0;31m---------------------------------------------------------------------------\u001b[0m",
      "\u001b[0;31mAttributeError\u001b[0m                            Traceback (most recent call last)",
      "\u001b[0;32m/var/folders/bk/zhdff0zs3yz8v31x8wdnftxm0000gn/T/ipykernel_57233/1020340506.py\u001b[0m in \u001b[0;36m<module>\u001b[0;34m\u001b[0m\n\u001b[0;32m----> 1\u001b[0;31m df = pd.telco({'churn': [1870],\n\u001b[0m\u001b[1;32m      2\u001b[0m                'customers': [7049]},\n\u001b[1;32m      3\u001b[0m                   index=['count'])\n\u001b[1;32m      4\u001b[0m \u001b[0mdf\u001b[0m\u001b[0;34m\u001b[0m\u001b[0;34m\u001b[0m\u001b[0m\n",
      "\u001b[0;32m/opt/homebrew/anaconda3/lib/python3.9/site-packages/pandas/__init__.py\u001b[0m in \u001b[0;36m__getattr__\u001b[0;34m(name)\u001b[0m\n\u001b[1;32m    242\u001b[0m         \u001b[0;32mreturn\u001b[0m \u001b[0m_SparseArray\u001b[0m\u001b[0;34m\u001b[0m\u001b[0;34m\u001b[0m\u001b[0m\n\u001b[1;32m    243\u001b[0m \u001b[0;34m\u001b[0m\u001b[0m\n\u001b[0;32m--> 244\u001b[0;31m     \u001b[0;32mraise\u001b[0m \u001b[0mAttributeError\u001b[0m\u001b[0;34m(\u001b[0m\u001b[0;34mf\"module 'pandas' has no attribute '{name}'\"\u001b[0m\u001b[0;34m)\u001b[0m\u001b[0;34m\u001b[0m\u001b[0;34m\u001b[0m\u001b[0m\n\u001b[0m\u001b[1;32m    245\u001b[0m \u001b[0;34m\u001b[0m\u001b[0m\n\u001b[1;32m    246\u001b[0m \u001b[0;34m\u001b[0m\u001b[0m\n",
      "\u001b[0;31mAttributeError\u001b[0m: module 'pandas' has no attribute 'telco'"
     ]
    }
   ],
   "source": [
    "df = pd.telco({'churn': [1870],\n",
    "               'customers': [7049]},\n",
    "                  index=['count'])\n",
    "df"
   ]
  },
  {
   "cell_type": "code",
   "execution_count": null,
   "id": "febcf883",
   "metadata": {},
   "outputs": [],
   "source": []
  },
  {
   "cell_type": "code",
   "execution_count": null,
   "id": "fa1920a3",
   "metadata": {},
   "outputs": [],
   "source": []
  }
 ],
 "metadata": {
  "kernelspec": {
   "display_name": "Python 3 (ipykernel)",
   "language": "python",
   "name": "python3"
  },
  "language_info": {
   "codemirror_mode": {
    "name": "ipython",
    "version": 3
   },
   "file_extension": ".py",
   "mimetype": "text/x-python",
   "name": "python",
   "nbconvert_exporter": "python",
   "pygments_lexer": "ipython3",
   "version": "3.9.7"
  }
 },
 "nbformat": 4,
 "nbformat_minor": 5
}
