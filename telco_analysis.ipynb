{
 "cells": [
  {
   "cell_type": "code",
   "execution_count": 1,
   "id": "13695ad3",
   "metadata": {},
   "outputs": [],
   "source": [
    "import seaborn as sns\n",
    "import matplotlib.pyplot as plt\n",
    "import pandas as pd\n",
    "\n",
    "telco = pd.read_csv(r\"/Users/Ray/downloads/jemison_spreadsheet_exercises - RDS - Table1_CustDetails.csv\")"
   ]
  },
  {
   "cell_type": "code",
   "execution_count": 2,
   "id": "2fd24ce4",
   "metadata": {},
   "outputs": [
    {
     "data": {
      "text/html": [
       "<div>\n",
       "<style scoped>\n",
       "    .dataframe tbody tr th:only-of-type {\n",
       "        vertical-align: middle;\n",
       "    }\n",
       "\n",
       "    .dataframe tbody tr th {\n",
       "        vertical-align: top;\n",
       "    }\n",
       "\n",
       "    .dataframe thead th {\n",
       "        text-align: right;\n",
       "    }\n",
       "</style>\n",
       "<table border=\"1\" class=\"dataframe\">\n",
       "  <thead>\n",
       "    <tr style=\"text-align: right;\">\n",
       "      <th></th>\n",
       "      <th>customer_id</th>\n",
       "      <th>gender</th>\n",
       "      <th>is_senior_citizen</th>\n",
       "      <th>partner</th>\n",
       "      <th>dependents</th>\n",
       "      <th>phone_service</th>\n",
       "      <th>internet_service</th>\n",
       "      <th>contract_type</th>\n",
       "      <th>payment_type</th>\n",
       "      <th>monthly_charges</th>\n",
       "      <th>total_charges</th>\n",
       "      <th>churn</th>\n",
       "      <th>tenure</th>\n",
       "    </tr>\n",
       "  </thead>\n",
       "  <tbody>\n",
       "    <tr>\n",
       "      <th>0</th>\n",
       "      <td>0002-ORFBO</td>\n",
       "      <td>Female</td>\n",
       "      <td>0</td>\n",
       "      <td>Yes</td>\n",
       "      <td>Yes</td>\n",
       "      <td>1</td>\n",
       "      <td>1</td>\n",
       "      <td>1</td>\n",
       "      <td>Mailed check</td>\n",
       "      <td>65.6</td>\n",
       "      <td>593.30</td>\n",
       "      <td>No</td>\n",
       "      <td>9.0</td>\n",
       "    </tr>\n",
       "    <tr>\n",
       "      <th>1</th>\n",
       "      <td>0003-MKNFE</td>\n",
       "      <td>Male</td>\n",
       "      <td>0</td>\n",
       "      <td>No</td>\n",
       "      <td>No</td>\n",
       "      <td>2</td>\n",
       "      <td>1</td>\n",
       "      <td>0</td>\n",
       "      <td>Mailed check</td>\n",
       "      <td>59.9</td>\n",
       "      <td>542.40</td>\n",
       "      <td>No</td>\n",
       "      <td>9.1</td>\n",
       "    </tr>\n",
       "    <tr>\n",
       "      <th>2</th>\n",
       "      <td>0004-TLHLJ</td>\n",
       "      <td>Male</td>\n",
       "      <td>0</td>\n",
       "      <td>No</td>\n",
       "      <td>No</td>\n",
       "      <td>1</td>\n",
       "      <td>2</td>\n",
       "      <td>0</td>\n",
       "      <td>Electronic check</td>\n",
       "      <td>73.9</td>\n",
       "      <td>280.85</td>\n",
       "      <td>Yes</td>\n",
       "      <td>3.8</td>\n",
       "    </tr>\n",
       "    <tr>\n",
       "      <th>3</th>\n",
       "      <td>0011-IGKFF</td>\n",
       "      <td>Male</td>\n",
       "      <td>1</td>\n",
       "      <td>Yes</td>\n",
       "      <td>No</td>\n",
       "      <td>1</td>\n",
       "      <td>2</td>\n",
       "      <td>0</td>\n",
       "      <td>Electronic check</td>\n",
       "      <td>98.0</td>\n",
       "      <td>1237.85</td>\n",
       "      <td>Yes</td>\n",
       "      <td>12.6</td>\n",
       "    </tr>\n",
       "    <tr>\n",
       "      <th>4</th>\n",
       "      <td>0013-EXCHZ</td>\n",
       "      <td>Female</td>\n",
       "      <td>1</td>\n",
       "      <td>Yes</td>\n",
       "      <td>No</td>\n",
       "      <td>1</td>\n",
       "      <td>2</td>\n",
       "      <td>0</td>\n",
       "      <td>Mailed check</td>\n",
       "      <td>83.9</td>\n",
       "      <td>267.40</td>\n",
       "      <td>Yes</td>\n",
       "      <td>3.2</td>\n",
       "    </tr>\n",
       "  </tbody>\n",
       "</table>\n",
       "</div>"
      ],
      "text/plain": [
       "  customer_id  gender  is_senior_citizen partner dependents  phone_service  \\\n",
       "0  0002-ORFBO  Female                  0     Yes        Yes              1   \n",
       "1  0003-MKNFE    Male                  0      No         No              2   \n",
       "2  0004-TLHLJ    Male                  0      No         No              1   \n",
       "3  0011-IGKFF    Male                  1     Yes         No              1   \n",
       "4  0013-EXCHZ  Female                  1     Yes         No              1   \n",
       "\n",
       "   internet_service  contract_type      payment_type  monthly_charges  \\\n",
       "0                 1              1      Mailed check             65.6   \n",
       "1                 1              0      Mailed check             59.9   \n",
       "2                 2              0  Electronic check             73.9   \n",
       "3                 2              0  Electronic check             98.0   \n",
       "4                 2              0      Mailed check             83.9   \n",
       "\n",
       "   total_charges churn  tenure  \n",
       "0         593.30    No     9.0  \n",
       "1         542.40    No     9.1  \n",
       "2         280.85   Yes     3.8  \n",
       "3        1237.85   Yes    12.6  \n",
       "4         267.40   Yes     3.2  "
      ]
     },
     "execution_count": 2,
     "metadata": {},
     "output_type": "execute_result"
    }
   ],
   "source": [
    "telco.head()"
   ]
  },
  {
   "cell_type": "code",
   "execution_count": 3,
   "id": "874d6540",
   "metadata": {},
   "outputs": [
    {
     "data": {
      "text/html": [
       "<div>\n",
       "<style scoped>\n",
       "    .dataframe tbody tr th:only-of-type {\n",
       "        vertical-align: middle;\n",
       "    }\n",
       "\n",
       "    .dataframe tbody tr th {\n",
       "        vertical-align: top;\n",
       "    }\n",
       "\n",
       "    .dataframe thead th {\n",
       "        text-align: right;\n",
       "    }\n",
       "</style>\n",
       "<table border=\"1\" class=\"dataframe\">\n",
       "  <thead>\n",
       "    <tr style=\"text-align: right;\">\n",
       "      <th></th>\n",
       "      <th>0</th>\n",
       "      <th>1</th>\n",
       "    </tr>\n",
       "  </thead>\n",
       "  <tbody>\n",
       "    <tr>\n",
       "      <th>customer_id</th>\n",
       "      <td>0002-ORFBO</td>\n",
       "      <td>0003-MKNFE</td>\n",
       "    </tr>\n",
       "    <tr>\n",
       "      <th>gender</th>\n",
       "      <td>Female</td>\n",
       "      <td>Male</td>\n",
       "    </tr>\n",
       "    <tr>\n",
       "      <th>is_senior_citizen</th>\n",
       "      <td>0</td>\n",
       "      <td>0</td>\n",
       "    </tr>\n",
       "    <tr>\n",
       "      <th>partner</th>\n",
       "      <td>Yes</td>\n",
       "      <td>No</td>\n",
       "    </tr>\n",
       "    <tr>\n",
       "      <th>dependents</th>\n",
       "      <td>Yes</td>\n",
       "      <td>No</td>\n",
       "    </tr>\n",
       "    <tr>\n",
       "      <th>phone_service</th>\n",
       "      <td>1</td>\n",
       "      <td>2</td>\n",
       "    </tr>\n",
       "    <tr>\n",
       "      <th>internet_service</th>\n",
       "      <td>1</td>\n",
       "      <td>1</td>\n",
       "    </tr>\n",
       "    <tr>\n",
       "      <th>contract_type</th>\n",
       "      <td>1</td>\n",
       "      <td>0</td>\n",
       "    </tr>\n",
       "    <tr>\n",
       "      <th>payment_type</th>\n",
       "      <td>Mailed check</td>\n",
       "      <td>Mailed check</td>\n",
       "    </tr>\n",
       "    <tr>\n",
       "      <th>monthly_charges</th>\n",
       "      <td>65.6</td>\n",
       "      <td>59.9</td>\n",
       "    </tr>\n",
       "    <tr>\n",
       "      <th>total_charges</th>\n",
       "      <td>593.3</td>\n",
       "      <td>542.4</td>\n",
       "    </tr>\n",
       "    <tr>\n",
       "      <th>churn</th>\n",
       "      <td>No</td>\n",
       "      <td>No</td>\n",
       "    </tr>\n",
       "    <tr>\n",
       "      <th>tenure</th>\n",
       "      <td>9.0</td>\n",
       "      <td>9.1</td>\n",
       "    </tr>\n",
       "  </tbody>\n",
       "</table>\n",
       "</div>"
      ],
      "text/plain": [
       "                              0             1\n",
       "customer_id          0002-ORFBO    0003-MKNFE\n",
       "gender                   Female          Male\n",
       "is_senior_citizen             0             0\n",
       "partner                     Yes            No\n",
       "dependents                  Yes            No\n",
       "phone_service                 1             2\n",
       "internet_service              1             1\n",
       "contract_type                 1             0\n",
       "payment_type       Mailed check  Mailed check\n",
       "monthly_charges            65.6          59.9\n",
       "total_charges             593.3         542.4\n",
       "churn                        No            No\n",
       "tenure                      9.0           9.1"
      ]
     },
     "execution_count": 3,
     "metadata": {},
     "output_type": "execute_result"
    }
   ],
   "source": [
    "telco.head(2).T"
   ]
  },
  {
   "cell_type": "code",
   "execution_count": 4,
   "id": "68b73d60",
   "metadata": {},
   "outputs": [
    {
     "data": {
      "text/plain": [
       "Male      3558\n",
       "Female    3491\n",
       "Name: gender, dtype: int64"
      ]
     },
     "execution_count": 4,
     "metadata": {},
     "output_type": "execute_result"
    }
   ],
   "source": [
    "telco.gender.value_counts()"
   ]
  },
  {
   "cell_type": "code",
   "execution_count": 5,
   "id": "f19df392",
   "metadata": {},
   "outputs": [
    {
     "data": {
      "text/plain": [
       "0    5907\n",
       "1    1142\n",
       "Name: is_senior_citizen, dtype: int64"
      ]
     },
     "execution_count": 5,
     "metadata": {},
     "output_type": "execute_result"
    }
   ],
   "source": [
    "telco.is_senior_citizen.value_counts()"
   ]
  },
  {
   "cell_type": "code",
   "execution_count": 6,
   "id": "345d35a5",
   "metadata": {},
   "outputs": [
    {
     "data": {
      "text/plain": [
       "No     3642\n",
       "Yes    3407\n",
       "Name: partner, dtype: int64"
      ]
     },
     "execution_count": 6,
     "metadata": {},
     "output_type": "execute_result"
    }
   ],
   "source": [
    "telco.partner.value_counts()"
   ]
  },
  {
   "cell_type": "code",
   "execution_count": 7,
   "id": "6db13f44",
   "metadata": {},
   "outputs": [
    {
     "data": {
      "text/plain": [
       "No     4934\n",
       "Yes    2115\n",
       "Name: dependents, dtype: int64"
      ]
     },
     "execution_count": 7,
     "metadata": {},
     "output_type": "execute_result"
    }
   ],
   "source": [
    "telco.dependents.value_counts()"
   ]
  },
  {
   "cell_type": "code",
   "execution_count": 8,
   "id": "4aa9a8ce",
   "metadata": {},
   "outputs": [
    {
     "data": {
      "text/plain": [
       "7049"
      ]
     },
     "execution_count": 8,
     "metadata": {},
     "output_type": "execute_result"
    }
   ],
   "source": [
    "telco.customer_id.count()"
   ]
  },
  {
   "cell_type": "code",
   "execution_count": 9,
   "id": "0fed18d9",
   "metadata": {},
   "outputs": [
    {
     "data": {
      "text/plain": [
       "is_senior_citizen  partner  dependents  contract_type  churn\n",
       "0                  No       No          0              No       1051\n",
       "                                                       Yes       783\n",
       "                                        1              No        444\n",
       "                                                       Yes        50\n",
       "                                        2              No        378\n",
       "                                                       Yes        14\n",
       "                            Yes         0              No        134\n",
       "                                                       Yes        66\n",
       "                                        1              No         77\n",
       "                                                       Yes         7\n",
       "                                        2              No         67\n",
       "                                                       Yes         2\n",
       "                   Yes      No          0              No        304\n",
       "                                                       Yes       190\n",
       "                                        1              No        245\n",
       "                                                       Yes        40\n",
       "                                        2              No        372\n",
       "                                                       Yes        12\n",
       "                            Yes         0              No        365\n",
       "                                                       Yes       176\n",
       "                                        1              No        383\n",
       "                                                       Yes        40\n",
       "                                        2              No        693\n",
       "                                                       Yes        14\n",
       "1                  No       No          0              No        190\n",
       "                                                       Yes       264\n",
       "                                        1              No         54\n",
       "                                                       Yes        11\n",
       "                                        2              No         41\n",
       "                                                       Yes         1\n",
       "                            Yes         0              No          5\n",
       "                                                       Yes         2\n",
       "                                        1              No          1\n",
       "                   Yes      No          0              No        145\n",
       "                                                       Yes       159\n",
       "                                        1              No         83\n",
       "                                                       Yes        16\n",
       "                                        2              No         84\n",
       "                                                       Yes         3\n",
       "                            Yes         0              No         26\n",
       "                                                       Yes        16\n",
       "                                        1              No         23\n",
       "                                                       Yes         2\n",
       "                                        2              No         14\n",
       "                                                       Yes         2\n",
       "dtype: int64"
      ]
     },
     "execution_count": 9,
     "metadata": {},
     "output_type": "execute_result"
    }
   ],
   "source": [
    "telco.groupby([\"is_senior_citizen\", \"partner\", \"dependents\", \"contract_type\", \"churn\"]).size()"
   ]
  },
  {
   "cell_type": "code",
   "execution_count": 71,
   "id": "cd16c1d3",
   "metadata": {},
   "outputs": [
    {
     "data": {
      "text/plain": [
       "churn  dependents  partner\n",
       "No     No          No         2158\n",
       "       Yes         Yes        1504\n",
       "       No          Yes        1233\n",
       "Yes    No          No         1123\n",
       "                   Yes         420\n",
       "No     Yes         No          284\n",
       "Yes    Yes         Yes         250\n",
       "                   No           77\n",
       "dtype: int64"
      ]
     },
     "execution_count": 71,
     "metadata": {},
     "output_type": "execute_result"
    }
   ],
   "source": [
    "telco.value_counts([\"churn\", \"dependents\", \"partner\"])\n"
   ]
  },
  {
   "cell_type": "code",
   "execution_count": 67,
   "id": "618f2f31",
   "metadata": {},
   "outputs": [
    {
     "data": {
      "text/plain": [
       "No     5179\n",
       "Yes    1870\n",
       "Name: churn, dtype: int64"
      ]
     },
     "execution_count": 67,
     "metadata": {},
     "output_type": "execute_result"
    }
   ],
   "source": [
    "telco.churn.value_counts()\n"
   ]
  },
  {
   "cell_type": "code",
   "execution_count": 12,
   "id": "f2704a1e",
   "metadata": {},
   "outputs": [
    {
     "data": {
      "text/plain": [
       "1870"
      ]
     },
     "execution_count": 12,
     "metadata": {},
     "output_type": "execute_result"
    }
   ],
   "source": [
    "churned = len(telco[telco.churn == 'Yes'])\n",
    "churned"
   ]
  },
  {
   "cell_type": "code",
   "execution_count": 13,
   "id": "4f80e319",
   "metadata": {},
   "outputs": [
    {
     "data": {
      "text/plain": [
       "0.2652858561498085"
      ]
     },
     "execution_count": 13,
     "metadata": {},
     "output_type": "execute_result"
    }
   ],
   "source": [
    "1870/telco.customer_id.count()\n"
   ]
  },
  {
   "cell_type": "code",
   "execution_count": 14,
   "id": "efa573a7",
   "metadata": {},
   "outputs": [
    {
     "data": {
      "text/plain": [
       "26.528585614980848"
      ]
     },
     "execution_count": 14,
     "metadata": {},
     "output_type": "execute_result"
    }
   ],
   "source": [
    "len(telco[telco.churn == 'Yes'])/telco.customer_id.count()*100\n"
   ]
  },
  {
   "cell_type": "code",
   "execution_count": 15,
   "id": "950d47ae",
   "metadata": {},
   "outputs": [
    {
     "name": "stderr",
     "output_type": "stream",
     "text": [
      "/var/folders/bk/zhdff0zs3yz8v31x8wdnftxm0000gn/T/ipykernel_60929/129324774.py:1: FutureWarning: Dropping of nuisance columns in DataFrame reductions (with 'numeric_only=None') is deprecated; in a future version this will raise TypeError.  Select only valid columns before calling the reduction.\n",
      "  first_month = telco.where(telco.tenure <= 1.9).sum()\n"
     ]
    },
    {
     "data": {
      "text/plain": [
       "is_senior_citizen      104.00\n",
       "phone_service          762.00\n",
       "internet_service       820.00\n",
       "contract_type           38.00\n",
       "monthly_charges      37451.30\n",
       "total_charges        41960.55\n",
       "tenure                 808.10\n",
       "dtype: float64"
      ]
     },
     "execution_count": 15,
     "metadata": {},
     "output_type": "execute_result"
    }
   ],
   "source": [
    "first_month = telco.where(telco.tenure <= 1.9).sum()\n",
    "first_month"
   ]
  },
  {
   "cell_type": "code",
   "execution_count": 64,
   "id": "173f8667",
   "metadata": {},
   "outputs": [
    {
     "data": {
      "text/plain": [
       "456401.7"
      ]
     },
     "execution_count": 64,
     "metadata": {},
     "output_type": "execute_result"
    }
   ],
   "source": [
    "telco.monthly_charges.sum()\n"
   ]
  },
  {
   "cell_type": "code",
   "execution_count": 17,
   "id": "3f3d2c57",
   "metadata": {},
   "outputs": [],
   "source": [
    "# how much revenue was lost after the first month from churners?\n",
    "# now narrow it down to churners with no dependents, no partners.\n",
    "\n"
   ]
  },
  {
   "cell_type": "code",
   "execution_count": 18,
   "id": "2d24d3c2",
   "metadata": {},
   "outputs": [
    {
     "data": {
      "text/plain": [
       "0        9.0\n",
       "1        9.0\n",
       "2        4.0\n",
       "3       13.0\n",
       "4        3.0\n",
       "        ... \n",
       "7044    14.0\n",
       "7045    22.0\n",
       "7046     2.0\n",
       "7047    68.0\n",
       "7048    63.0\n",
       "Name: tenure, Length: 7049, dtype: float64"
      ]
     },
     "execution_count": 18,
     "metadata": {},
     "output_type": "execute_result"
    }
   ],
   "source": [
    "round_tenure = telco.tenure.round(0)\n",
    "round_tenure"
   ]
  },
  {
   "cell_type": "code",
   "execution_count": 19,
   "id": "17ddb1ab",
   "metadata": {},
   "outputs": [],
   "source": [
    "telco['round_tenure'] = telco.tenure.round(0)"
   ]
  },
  {
   "cell_type": "code",
   "execution_count": 20,
   "id": "d6126e12",
   "metadata": {},
   "outputs": [
    {
     "data": {
      "text/plain": [
       "tenure\n",
       "1.0     616\n",
       "2.0     238\n",
       "3.0     195\n",
       "4.0     183\n",
       "70.0    166\n",
       "       ... \n",
       "75.0     12\n",
       "0.0      11\n",
       "77.0      5\n",
       "76.0      3\n",
       "79.0      1\n",
       "Length: 79, dtype: int64"
      ]
     },
     "execution_count": 20,
     "metadata": {},
     "output_type": "execute_result"
    }
   ],
   "source": [
    "count_per_tenure = telco.value_counts(round_tenure)\n",
    "count_per_tenure"
   ]
  },
  {
   "cell_type": "code",
   "execution_count": 21,
   "id": "d835524b",
   "metadata": {},
   "outputs": [
    {
     "data": {
      "text/html": [
       "<div>\n",
       "<style scoped>\n",
       "    .dataframe tbody tr th:only-of-type {\n",
       "        vertical-align: middle;\n",
       "    }\n",
       "\n",
       "    .dataframe tbody tr th {\n",
       "        vertical-align: top;\n",
       "    }\n",
       "\n",
       "    .dataframe thead th {\n",
       "        text-align: right;\n",
       "    }\n",
       "</style>\n",
       "<table border=\"1\" class=\"dataframe\">\n",
       "  <thead>\n",
       "    <tr style=\"text-align: right;\">\n",
       "      <th></th>\n",
       "      <th>customer_id</th>\n",
       "      <th>gender</th>\n",
       "      <th>is_senior_citizen</th>\n",
       "      <th>partner</th>\n",
       "      <th>dependents</th>\n",
       "      <th>phone_service</th>\n",
       "      <th>internet_service</th>\n",
       "      <th>contract_type</th>\n",
       "      <th>payment_type</th>\n",
       "      <th>monthly_charges</th>\n",
       "      <th>total_charges</th>\n",
       "      <th>churn</th>\n",
       "      <th>tenure</th>\n",
       "      <th>round_tenure</th>\n",
       "    </tr>\n",
       "  </thead>\n",
       "  <tbody>\n",
       "    <tr>\n",
       "      <th>0</th>\n",
       "      <td>0002-ORFBO</td>\n",
       "      <td>Female</td>\n",
       "      <td>0</td>\n",
       "      <td>Yes</td>\n",
       "      <td>Yes</td>\n",
       "      <td>1</td>\n",
       "      <td>1</td>\n",
       "      <td>1</td>\n",
       "      <td>Mailed check</td>\n",
       "      <td>65.6</td>\n",
       "      <td>593.30</td>\n",
       "      <td>No</td>\n",
       "      <td>9.0</td>\n",
       "      <td>9.0</td>\n",
       "    </tr>\n",
       "    <tr>\n",
       "      <th>1</th>\n",
       "      <td>0003-MKNFE</td>\n",
       "      <td>Male</td>\n",
       "      <td>0</td>\n",
       "      <td>No</td>\n",
       "      <td>No</td>\n",
       "      <td>2</td>\n",
       "      <td>1</td>\n",
       "      <td>0</td>\n",
       "      <td>Mailed check</td>\n",
       "      <td>59.9</td>\n",
       "      <td>542.40</td>\n",
       "      <td>No</td>\n",
       "      <td>9.1</td>\n",
       "      <td>9.0</td>\n",
       "    </tr>\n",
       "    <tr>\n",
       "      <th>2</th>\n",
       "      <td>0004-TLHLJ</td>\n",
       "      <td>Male</td>\n",
       "      <td>0</td>\n",
       "      <td>No</td>\n",
       "      <td>No</td>\n",
       "      <td>1</td>\n",
       "      <td>2</td>\n",
       "      <td>0</td>\n",
       "      <td>Electronic check</td>\n",
       "      <td>73.9</td>\n",
       "      <td>280.85</td>\n",
       "      <td>Yes</td>\n",
       "      <td>3.8</td>\n",
       "      <td>4.0</td>\n",
       "    </tr>\n",
       "    <tr>\n",
       "      <th>3</th>\n",
       "      <td>0011-IGKFF</td>\n",
       "      <td>Male</td>\n",
       "      <td>1</td>\n",
       "      <td>Yes</td>\n",
       "      <td>No</td>\n",
       "      <td>1</td>\n",
       "      <td>2</td>\n",
       "      <td>0</td>\n",
       "      <td>Electronic check</td>\n",
       "      <td>98.0</td>\n",
       "      <td>1237.85</td>\n",
       "      <td>Yes</td>\n",
       "      <td>12.6</td>\n",
       "      <td>13.0</td>\n",
       "    </tr>\n",
       "    <tr>\n",
       "      <th>4</th>\n",
       "      <td>0013-EXCHZ</td>\n",
       "      <td>Female</td>\n",
       "      <td>1</td>\n",
       "      <td>Yes</td>\n",
       "      <td>No</td>\n",
       "      <td>1</td>\n",
       "      <td>2</td>\n",
       "      <td>0</td>\n",
       "      <td>Mailed check</td>\n",
       "      <td>83.9</td>\n",
       "      <td>267.40</td>\n",
       "      <td>Yes</td>\n",
       "      <td>3.2</td>\n",
       "      <td>3.0</td>\n",
       "    </tr>\n",
       "  </tbody>\n",
       "</table>\n",
       "</div>"
      ],
      "text/plain": [
       "  customer_id  gender  is_senior_citizen partner dependents  phone_service  \\\n",
       "0  0002-ORFBO  Female                  0     Yes        Yes              1   \n",
       "1  0003-MKNFE    Male                  0      No         No              2   \n",
       "2  0004-TLHLJ    Male                  0      No         No              1   \n",
       "3  0011-IGKFF    Male                  1     Yes         No              1   \n",
       "4  0013-EXCHZ  Female                  1     Yes         No              1   \n",
       "\n",
       "   internet_service  contract_type      payment_type  monthly_charges  \\\n",
       "0                 1              1      Mailed check             65.6   \n",
       "1                 1              0      Mailed check             59.9   \n",
       "2                 2              0  Electronic check             73.9   \n",
       "3                 2              0  Electronic check             98.0   \n",
       "4                 2              0      Mailed check             83.9   \n",
       "\n",
       "   total_charges churn  tenure  round_tenure  \n",
       "0         593.30    No     9.0           9.0  \n",
       "1         542.40    No     9.1           9.0  \n",
       "2         280.85   Yes     3.8           4.0  \n",
       "3        1237.85   Yes    12.6          13.0  \n",
       "4         267.40   Yes     3.2           3.0  "
      ]
     },
     "execution_count": 21,
     "metadata": {},
     "output_type": "execute_result"
    }
   ],
   "source": [
    "telco.head()"
   ]
  },
  {
   "cell_type": "code",
   "execution_count": 22,
   "id": "699a712d",
   "metadata": {},
   "outputs": [
    {
     "data": {
      "text/plain": [
       "7049"
      ]
     },
     "execution_count": 22,
     "metadata": {},
     "output_type": "execute_result"
    }
   ],
   "source": [
    "telco.value_counts(['customer_id']).sum()"
   ]
  },
  {
   "cell_type": "code",
   "execution_count": 30,
   "id": "92f9e70a",
   "metadata": {},
   "outputs": [
    {
     "data": {
      "text/plain": [
       "89.22784810126582"
      ]
     },
     "execution_count": 30,
     "metadata": {},
     "output_type": "execute_result"
    }
   ],
   "source": [
    "telco.groupby('round_tenure').churn.count().mean()"
   ]
  },
  {
   "cell_type": "code",
   "execution_count": 76,
   "id": "36ea5f80",
   "metadata": {},
   "outputs": [
    {
     "data": {
      "text/plain": [
       "25.27027027027027"
      ]
     },
     "execution_count": 76,
     "metadata": {},
     "output_type": "execute_result"
    }
   ],
   "source": [
    "telco[telco.churn == 'Yes'].groupby('round_tenure').churn.count().mean()"
   ]
  },
  {
   "cell_type": "code",
   "execution_count": 35,
   "id": "5de21732",
   "metadata": {},
   "outputs": [
    {
     "data": {
      "text/plain": [
       "round_tenure\n",
       "1.0      58.146335\n",
       "2.0      65.665200\n",
       "3.0      66.764045\n",
       "4.0      69.476111\n",
       "5.0      74.324074\n",
       "           ...    \n",
       "70.0     99.522727\n",
       "71.0     87.116667\n",
       "72.0     84.766667\n",
       "73.0     75.166667\n",
       "74.0    110.400000\n",
       "Name: monthly_charges, Length: 74, dtype: float64"
      ]
     },
     "execution_count": 35,
     "metadata": {},
     "output_type": "execute_result"
    }
   ],
   "source": [
    "telco[telco.churn == 'Yes'].groupby('round_tenure').monthly_charges.mean()"
   ]
  },
  {
   "cell_type": "code",
   "execution_count": 36,
   "id": "46180066",
   "metadata": {},
   "outputs": [
    {
     "data": {
      "text/plain": [
       "74.41783422459888"
      ]
     },
     "execution_count": 36,
     "metadata": {},
     "output_type": "execute_result"
    }
   ],
   "source": [
    "telco[telco.churn == 'Yes'].monthly_charges.mean()"
   ]
  },
  {
   "cell_type": "code",
   "execution_count": 77,
   "id": "ba63ae7c",
   "metadata": {},
   "outputs": [
    {
     "data": {
      "text/plain": [
       "1880.5587837837825"
      ]
     },
     "execution_count": 77,
     "metadata": {},
     "output_type": "execute_result"
    }
   ],
   "source": [
    "telco[telco.churn == 'Yes'].monthly_charges.mean()*telco[telco.churn == 'Yes'].groupby('round_tenure').churn.count().mean()"
   ]
  },
  {
   "cell_type": "code",
   "execution_count": null,
   "id": "2ab71878",
   "metadata": {},
   "outputs": [],
   "source": []
  }
 ],
 "metadata": {
  "kernelspec": {
   "display_name": "Python 3 (ipykernel)",
   "language": "python",
   "name": "python3"
  },
  "language_info": {
   "codemirror_mode": {
    "name": "ipython",
    "version": 3
   },
   "file_extension": ".py",
   "mimetype": "text/x-python",
   "name": "python",
   "nbconvert_exporter": "python",
   "pygments_lexer": "ipython3",
   "version": "3.9.7"
  }
 },
 "nbformat": 4,
 "nbformat_minor": 5
}
